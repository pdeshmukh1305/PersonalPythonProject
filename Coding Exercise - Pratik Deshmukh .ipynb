{
 "cells": [
  {
   "cell_type": "markdown",
   "metadata": {},
   "source": [
    "# Data Science Pricing Analyst Internship - Coding Exercise \n",
    "### - Pratik Deshmukh"
   ]
  },
  {
   "cell_type": "markdown",
   "metadata": {},
   "source": [
    "Saturday, 2nd April 2022"
   ]
  },
  {
   "cell_type": "code",
   "execution_count": 1,
   "metadata": {
    "scrolled": true
   },
   "outputs": [
    {
     "data": {
      "application/javascript": [
       "IPython.notebook.set_autosave_interval(0)"
      ]
     },
     "metadata": {},
     "output_type": "display_data"
    },
    {
     "name": "stdout",
     "output_type": "stream",
     "text": [
      "Autosave disabled\n"
     ]
    }
   ],
   "source": [
    "%autosave 0"
   ]
  },
  {
   "cell_type": "code",
   "execution_count": 2,
   "metadata": {
    "scrolled": true
   },
   "outputs": [],
   "source": [
    "import pandas as pd\n",
    "import numpy as np\n",
    "from pandas.tseries.frequencies import to_offset #for converting datetime index from daily to weekly\n",
    "# print all the outputs in a cell\n",
    "from IPython.core.interactiveshell import InteractiveShell\n",
    "InteractiveShell.ast_node_interactivity = \"all\""
   ]
  },
  {
   "cell_type": "code",
   "execution_count": 3,
   "metadata": {
    "scrolled": true
   },
   "outputs": [],
   "source": [
    "#Set to 2 decimal places, and display all columns\n",
    "pd.set_option('display.float_format', lambda x: '%.2f' % x)\n",
    "pd.set_option('display.max_columns', None)"
   ]
  },
  {
   "cell_type": "markdown",
   "metadata": {},
   "source": [
    "## <u> Part 1</u> : Preparing the data"
   ]
  },
  {
   "cell_type": "markdown",
   "metadata": {},
   "source": [
    "Lets load the data"
   ]
  },
  {
   "cell_type": "markdown",
   "metadata": {},
   "source": [
    "There are Two main datasets available - Transaction Line Data and Costs data"
   ]
  },
  {
   "cell_type": "code",
   "execution_count": 4,
   "metadata": {
    "scrolled": true
   },
   "outputs": [],
   "source": [
    "df_tld = pd.read_csv('Transaction_Line_Data.csv',index_col=0)"
   ]
  },
  {
   "cell_type": "code",
   "execution_count": 5,
   "metadata": {
    "scrolled": true
   },
   "outputs": [
    {
     "data": {
      "text/html": [
       "<div>\n",
       "<style scoped>\n",
       "    .dataframe tbody tr th:only-of-type {\n",
       "        vertical-align: middle;\n",
       "    }\n",
       "\n",
       "    .dataframe tbody tr th {\n",
       "        vertical-align: top;\n",
       "    }\n",
       "\n",
       "    .dataframe thead th {\n",
       "        text-align: right;\n",
       "    }\n",
       "</style>\n",
       "<table border=\"1\" class=\"dataframe\">\n",
       "  <thead>\n",
       "    <tr style=\"text-align: right;\">\n",
       "      <th></th>\n",
       "      <th>Product_ID</th>\n",
       "      <th>Category_ID</th>\n",
       "      <th>Transaction_ID</th>\n",
       "      <th>Sales</th>\n",
       "      <th>Units</th>\n",
       "    </tr>\n",
       "    <tr>\n",
       "      <th>SalesDate</th>\n",
       "      <th></th>\n",
       "      <th></th>\n",
       "      <th></th>\n",
       "      <th></th>\n",
       "      <th></th>\n",
       "    </tr>\n",
       "  </thead>\n",
       "  <tbody>\n",
       "    <tr>\n",
       "      <th>5/1/2017</th>\n",
       "      <td>1556123</td>\n",
       "      <td>1442</td>\n",
       "      <td>4393412335</td>\n",
       "      <td>23</td>\n",
       "      <td>1</td>\n",
       "    </tr>\n",
       "    <tr>\n",
       "      <th>5/1/2017</th>\n",
       "      <td>2616945</td>\n",
       "      <td>1435</td>\n",
       "      <td>4393412335</td>\n",
       "      <td>10</td>\n",
       "      <td>1</td>\n",
       "    </tr>\n",
       "    <tr>\n",
       "      <th>5/1/2017</th>\n",
       "      <td>2616945</td>\n",
       "      <td>1435</td>\n",
       "      <td>4393412335</td>\n",
       "      <td>10</td>\n",
       "      <td>1</td>\n",
       "    </tr>\n",
       "    <tr>\n",
       "      <th>5/1/2017</th>\n",
       "      <td>3465709</td>\n",
       "      <td>1423</td>\n",
       "      <td>4393412335</td>\n",
       "      <td>470</td>\n",
       "      <td>1</td>\n",
       "    </tr>\n",
       "    <tr>\n",
       "      <th>5/1/2017</th>\n",
       "      <td>3446931</td>\n",
       "      <td>1423</td>\n",
       "      <td>4393412751</td>\n",
       "      <td>346</td>\n",
       "      <td>1</td>\n",
       "    </tr>\n",
       "  </tbody>\n",
       "</table>\n",
       "</div>"
      ],
      "text/plain": [
       "           Product_ID  Category_ID  Transaction_ID  Sales  Units\n",
       "SalesDate                                                       \n",
       "5/1/2017      1556123         1442      4393412335     23      1\n",
       "5/1/2017      2616945         1435      4393412335     10      1\n",
       "5/1/2017      2616945         1435      4393412335     10      1\n",
       "5/1/2017      3465709         1423      4393412335    470      1\n",
       "5/1/2017      3446931         1423      4393412751    346      1"
      ]
     },
     "execution_count": 5,
     "metadata": {},
     "output_type": "execute_result"
    }
   ],
   "source": [
    "df_tld.head()"
   ]
  },
  {
   "cell_type": "code",
   "execution_count": 6,
   "metadata": {
    "scrolled": true
   },
   "outputs": [
    {
     "data": {
      "text/plain": [
       "374143"
      ]
     },
     "execution_count": 6,
     "metadata": {},
     "output_type": "execute_result"
    }
   ],
   "source": [
    "len(df_tld)"
   ]
  },
  {
   "cell_type": "code",
   "execution_count": 7,
   "metadata": {
    "scrolled": true
   },
   "outputs": [],
   "source": [
    "df_c = pd.read_csv('Costs.csv')"
   ]
  },
  {
   "cell_type": "code",
   "execution_count": 8,
   "metadata": {
    "scrolled": true
   },
   "outputs": [
    {
     "data": {
      "text/html": [
       "<div>\n",
       "<style scoped>\n",
       "    .dataframe tbody tr th:only-of-type {\n",
       "        vertical-align: middle;\n",
       "    }\n",
       "\n",
       "    .dataframe tbody tr th {\n",
       "        vertical-align: top;\n",
       "    }\n",
       "\n",
       "    .dataframe thead th {\n",
       "        text-align: right;\n",
       "    }\n",
       "</style>\n",
       "<table border=\"1\" class=\"dataframe\">\n",
       "  <thead>\n",
       "    <tr style=\"text-align: right;\">\n",
       "      <th></th>\n",
       "      <th>Product_ID</th>\n",
       "      <th>Category_ID</th>\n",
       "      <th>Cost</th>\n",
       "    </tr>\n",
       "  </thead>\n",
       "  <tbody>\n",
       "    <tr>\n",
       "      <th>0</th>\n",
       "      <td>1202629</td>\n",
       "      <td>1929</td>\n",
       "      <td>12.00</td>\n",
       "    </tr>\n",
       "    <tr>\n",
       "      <th>1</th>\n",
       "      <td>1202920</td>\n",
       "      <td>2050</td>\n",
       "      <td>3.00</td>\n",
       "    </tr>\n",
       "    <tr>\n",
       "      <th>2</th>\n",
       "      <td>1203199</td>\n",
       "      <td>2027</td>\n",
       "      <td>4.00</td>\n",
       "    </tr>\n",
       "    <tr>\n",
       "      <th>3</th>\n",
       "      <td>1208416</td>\n",
       "      <td>1874</td>\n",
       "      <td>2.00</td>\n",
       "    </tr>\n",
       "    <tr>\n",
       "      <th>4</th>\n",
       "      <td>1211713</td>\n",
       "      <td>1825</td>\n",
       "      <td>2.00</td>\n",
       "    </tr>\n",
       "  </tbody>\n",
       "</table>\n",
       "</div>"
      ],
      "text/plain": [
       "   Product_ID  Category_ID  Cost\n",
       "0     1202629         1929 12.00\n",
       "1     1202920         2050  3.00\n",
       "2     1203199         2027  4.00\n",
       "3     1208416         1874  2.00\n",
       "4     1211713         1825  2.00"
      ]
     },
     "execution_count": 8,
     "metadata": {},
     "output_type": "execute_result"
    }
   ],
   "source": [
    "df_c.head()"
   ]
  },
  {
   "cell_type": "code",
   "execution_count": 9,
   "metadata": {
    "scrolled": true
   },
   "outputs": [
    {
     "data": {
      "text/plain": [
       "11444"
      ]
     },
     "execution_count": 9,
     "metadata": {},
     "output_type": "execute_result"
    }
   ],
   "source": [
    "len(df_c)"
   ]
  },
  {
   "cell_type": "markdown",
   "metadata": {},
   "source": [
    "Since we know that the Product_ID column is common, lets combine the two data sets into one. The transaction data is very important to analyze sales, lets retain all of that, and add in the Cost of per product to that table by utilising a left merge.\n",
    "\n",
    "But before that, we must check the integrity of the data between the two datasets. Does the same Category_ID have the same Product_IDs? (We are interested in the category with ID \"1423\")"
   ]
  },
  {
   "cell_type": "code",
   "execution_count": 10,
   "metadata": {
    "scrolled": true
   },
   "outputs": [
    {
     "data": {
      "text/plain": [
       "array([3465709, 3446931, 3463743, 3464614, 3476499, 3463745, 3446933,\n",
       "       3650564, 3476700, 3463744, 2004295, 3464615, 2964273, 3446932,\n",
       "       3588034, 3597259, 3650563, 3699889, 3655356, 3699880, 3709203,\n",
       "       3476701, 3726751, 3476703, 3463746, 3142321, 3476702, 2875083,\n",
       "       3699874, 2906448, 3650562, 3588035, 3699881, 3597257, 3699888,\n",
       "       2942416, 3699882, 3699886, 3699871, 3772171, 2861793, 3588050,\n",
       "       3699870, 2906450, 2988401, 3910992, 3910528, 3910996, 3910527,\n",
       "       3910997, 3910995, 3910526, 3116246, 3910994, 3910993, 3913527,\n",
       "       3597176, 3597230, 2875090, 3913525, 3926443, 3913529, 3772160,\n",
       "       3597179, 3951415, 3946820, 2360207, 3913526, 3913528, 3950788,\n",
       "       3913524, 3951416, 3962759, 3972062, 3116247, 3954592, 3976051,\n",
       "       2875082, 3990110, 3990345, 3990215, 3990080, 3990029, 3990226,\n",
       "       3990173, 3989963, 3990344, 3962758, 3990225, 3986457, 3954162,\n",
       "       3990342, 3990228, 3989950, 3990154, 3950854, 3990124, 3990331,\n",
       "       3989985, 3990340, 3990180, 3976158, 3989974, 3990326])"
      ]
     },
     "execution_count": 10,
     "metadata": {},
     "output_type": "execute_result"
    }
   ],
   "source": [
    "(df_tld[df_tld.Category_ID==1423]).Product_ID.unique()"
   ]
  },
  {
   "cell_type": "code",
   "execution_count": 11,
   "metadata": {
    "scrolled": true
   },
   "outputs": [
    {
     "data": {
      "text/plain": [
       "104"
      ]
     },
     "execution_count": 11,
     "metadata": {},
     "output_type": "execute_result"
    }
   ],
   "source": [
    "(df_tld[df_tld.Category_ID==1423]).Product_ID.nunique()"
   ]
  },
  {
   "cell_type": "code",
   "execution_count": 12,
   "metadata": {
    "scrolled": true
   },
   "outputs": [
    {
     "data": {
      "text/plain": [
       "array([2004295, 2360207, 2861793, 2875082, 2875083, 2875090, 2906448,\n",
       "       2906450, 2942416, 2964273, 2988401, 3116246, 3116247, 3142321,\n",
       "       3446931, 3446932, 3446933, 3463743, 3463744, 3463745, 3463746,\n",
       "       3464614, 3464615, 3465709, 3476499, 3476700, 3476701, 3476702,\n",
       "       3476703, 3588034, 3588035, 3588050, 3597176, 3597179, 3597230,\n",
       "       3597257, 3597259, 3650562, 3650563, 3650564, 3655356, 3699870,\n",
       "       3699871, 3699874, 3699880, 3699881, 3699882, 3699886, 3699888,\n",
       "       3699889, 3709203, 3726751, 3772160, 3772171, 3910526, 3910527,\n",
       "       3910528, 3910992, 3910993, 3910994, 3910995, 3910996, 3910997,\n",
       "       3913524, 3913525, 3913526, 3913527, 3913528, 3913529, 3926443,\n",
       "       3946820, 3950788, 3950854, 3951415, 3951416, 3954162, 3954592,\n",
       "       3962758, 3962759, 3972062, 3976051, 3976158, 3986457, 3989950,\n",
       "       3989963, 3989974, 3989985, 3990029, 3990080, 3990110, 3990124,\n",
       "       3990154, 3990173, 3990180, 3990215, 3990225, 3990226, 3990228,\n",
       "       3990326, 3990331, 3990340, 3990342, 3990344, 3990345])"
      ]
     },
     "execution_count": 12,
     "metadata": {},
     "output_type": "execute_result"
    }
   ],
   "source": [
    "(df_c[df_c.Category_ID==1423]).Product_ID.unique()"
   ]
  },
  {
   "cell_type": "code",
   "execution_count": 13,
   "metadata": {
    "scrolled": true
   },
   "outputs": [
    {
     "data": {
      "text/plain": [
       "104"
      ]
     },
     "execution_count": 13,
     "metadata": {},
     "output_type": "execute_result"
    }
   ],
   "source": [
    "(df_c[df_c.Category_ID==1423]).Product_ID.nunique()"
   ]
  },
  {
   "cell_type": "markdown",
   "metadata": {},
   "source": [
    "Lets see if they match."
   ]
  },
  {
   "cell_type": "code",
   "execution_count": 14,
   "metadata": {
    "scrolled": true
   },
   "outputs": [],
   "source": [
    "tld_prodIDs_sorted=(df_tld[df_tld.Category_ID==1423]).Product_ID.unique().sort()"
   ]
  },
  {
   "cell_type": "code",
   "execution_count": 15,
   "metadata": {
    "scrolled": true
   },
   "outputs": [],
   "source": [
    "c_prodIDs_sorted=(df_c[df_c.Category_ID==1423]).Product_ID.unique().sort()"
   ]
  },
  {
   "cell_type": "code",
   "execution_count": 16,
   "metadata": {
    "scrolled": true
   },
   "outputs": [
    {
     "data": {
      "text/plain": [
       "True"
      ]
     },
     "execution_count": 16,
     "metadata": {},
     "output_type": "execute_result"
    }
   ],
   "source": [
    "tld_prodIDs_sorted==c_prodIDs_sorted"
   ]
  },
  {
   "cell_type": "markdown",
   "metadata": {},
   "source": [
    "The data is consistent!"
   ]
  },
  {
   "cell_type": "markdown",
   "metadata": {},
   "source": [
    "We can now use the left merge to combine the data into one df"
   ]
  },
  {
   "cell_type": "code",
   "execution_count": 17,
   "metadata": {
    "scrolled": true
   },
   "outputs": [],
   "source": [
    "df=pd.merge(df_tld,df_c,on='Product_ID')"
   ]
  },
  {
   "cell_type": "code",
   "execution_count": 18,
   "metadata": {
    "scrolled": true
   },
   "outputs": [
    {
     "data": {
      "text/html": [
       "<div>\n",
       "<style scoped>\n",
       "    .dataframe tbody tr th:only-of-type {\n",
       "        vertical-align: middle;\n",
       "    }\n",
       "\n",
       "    .dataframe tbody tr th {\n",
       "        vertical-align: top;\n",
       "    }\n",
       "\n",
       "    .dataframe thead th {\n",
       "        text-align: right;\n",
       "    }\n",
       "</style>\n",
       "<table border=\"1\" class=\"dataframe\">\n",
       "  <thead>\n",
       "    <tr style=\"text-align: right;\">\n",
       "      <th></th>\n",
       "      <th>Product_ID</th>\n",
       "      <th>Category_ID_x</th>\n",
       "      <th>Transaction_ID</th>\n",
       "      <th>Sales</th>\n",
       "      <th>Units</th>\n",
       "      <th>Category_ID_y</th>\n",
       "      <th>Cost</th>\n",
       "    </tr>\n",
       "  </thead>\n",
       "  <tbody>\n",
       "    <tr>\n",
       "      <th>0</th>\n",
       "      <td>1556123</td>\n",
       "      <td>1442</td>\n",
       "      <td>4393412335</td>\n",
       "      <td>23</td>\n",
       "      <td>1</td>\n",
       "      <td>1442</td>\n",
       "      <td>12.00</td>\n",
       "    </tr>\n",
       "    <tr>\n",
       "      <th>1</th>\n",
       "      <td>1556123</td>\n",
       "      <td>1442</td>\n",
       "      <td>4393829655</td>\n",
       "      <td>23</td>\n",
       "      <td>1</td>\n",
       "      <td>1442</td>\n",
       "      <td>12.00</td>\n",
       "    </tr>\n",
       "    <tr>\n",
       "      <th>2</th>\n",
       "      <td>1556123</td>\n",
       "      <td>1442</td>\n",
       "      <td>4393943402</td>\n",
       "      <td>23</td>\n",
       "      <td>1</td>\n",
       "      <td>1442</td>\n",
       "      <td>12.00</td>\n",
       "    </tr>\n",
       "    <tr>\n",
       "      <th>3</th>\n",
       "      <td>1556123</td>\n",
       "      <td>1442</td>\n",
       "      <td>4394006317</td>\n",
       "      <td>23</td>\n",
       "      <td>1</td>\n",
       "      <td>1442</td>\n",
       "      <td>12.00</td>\n",
       "    </tr>\n",
       "    <tr>\n",
       "      <th>4</th>\n",
       "      <td>1556123</td>\n",
       "      <td>1442</td>\n",
       "      <td>4394193435</td>\n",
       "      <td>23</td>\n",
       "      <td>1</td>\n",
       "      <td>1442</td>\n",
       "      <td>12.00</td>\n",
       "    </tr>\n",
       "  </tbody>\n",
       "</table>\n",
       "</div>"
      ],
      "text/plain": [
       "   Product_ID  Category_ID_x  Transaction_ID  Sales  Units  Category_ID_y  \\\n",
       "0     1556123           1442      4393412335     23      1           1442   \n",
       "1     1556123           1442      4393829655     23      1           1442   \n",
       "2     1556123           1442      4393943402     23      1           1442   \n",
       "3     1556123           1442      4394006317     23      1           1442   \n",
       "4     1556123           1442      4394193435     23      1           1442   \n",
       "\n",
       "   Cost  \n",
       "0 12.00  \n",
       "1 12.00  \n",
       "2 12.00  \n",
       "3 12.00  \n",
       "4 12.00  "
      ]
     },
     "execution_count": 18,
     "metadata": {},
     "output_type": "execute_result"
    }
   ],
   "source": [
    "df.head()"
   ]
  },
  {
   "cell_type": "code",
   "execution_count": 19,
   "metadata": {
    "scrolled": true
   },
   "outputs": [
    {
     "data": {
      "text/plain": [
       "374143"
      ]
     },
     "execution_count": 19,
     "metadata": {},
     "output_type": "execute_result"
    }
   ],
   "source": [
    "len(df)"
   ]
  },
  {
   "cell_type": "code",
   "execution_count": 20,
   "metadata": {
    "scrolled": false
   },
   "outputs": [
    {
     "data": {
      "text/plain": [
       "True"
      ]
     },
     "execution_count": 20,
     "metadata": {},
     "output_type": "execute_result"
    }
   ],
   "source": [
    "len(df)==len(df_tld)"
   ]
  },
  {
   "cell_type": "code",
   "execution_count": 21,
   "metadata": {},
   "outputs": [
    {
     "data": {
      "text/html": [
       "<div>\n",
       "<style scoped>\n",
       "    .dataframe tbody tr th:only-of-type {\n",
       "        vertical-align: middle;\n",
       "    }\n",
       "\n",
       "    .dataframe tbody tr th {\n",
       "        vertical-align: top;\n",
       "    }\n",
       "\n",
       "    .dataframe thead th {\n",
       "        text-align: right;\n",
       "    }\n",
       "</style>\n",
       "<table border=\"1\" class=\"dataframe\">\n",
       "  <thead>\n",
       "    <tr style=\"text-align: right;\">\n",
       "      <th></th>\n",
       "      <th>Product_ID</th>\n",
       "      <th>Category_ID_x</th>\n",
       "      <th>Transaction_ID</th>\n",
       "      <th>Sales</th>\n",
       "      <th>Units</th>\n",
       "      <th>Category_ID_y</th>\n",
       "      <th>Cost</th>\n",
       "    </tr>\n",
       "  </thead>\n",
       "  <tbody>\n",
       "    <tr>\n",
       "      <th>0</th>\n",
       "      <td>1556123</td>\n",
       "      <td>1442</td>\n",
       "      <td>4393412335</td>\n",
       "      <td>23</td>\n",
       "      <td>1</td>\n",
       "      <td>1442</td>\n",
       "      <td>12.00</td>\n",
       "    </tr>\n",
       "    <tr>\n",
       "      <th>1</th>\n",
       "      <td>1556123</td>\n",
       "      <td>1442</td>\n",
       "      <td>4393829655</td>\n",
       "      <td>23</td>\n",
       "      <td>1</td>\n",
       "      <td>1442</td>\n",
       "      <td>12.00</td>\n",
       "    </tr>\n",
       "  </tbody>\n",
       "</table>\n",
       "</div>"
      ],
      "text/plain": [
       "   Product_ID  Category_ID_x  Transaction_ID  Sales  Units  Category_ID_y  \\\n",
       "0     1556123           1442      4393412335     23      1           1442   \n",
       "1     1556123           1442      4393829655     23      1           1442   \n",
       "\n",
       "   Cost  \n",
       "0 12.00  \n",
       "1 12.00  "
      ]
     },
     "execution_count": 21,
     "metadata": {},
     "output_type": "execute_result"
    }
   ],
   "source": [
    "df.head(2)"
   ]
  },
  {
   "cell_type": "markdown",
   "metadata": {},
   "source": [
    "We can drop one of the duplicate columns."
   ]
  },
  {
   "cell_type": "code",
   "execution_count": 22,
   "metadata": {
    "scrolled": true
   },
   "outputs": [],
   "source": [
    "df.drop(columns=['Category_ID_x'], inplace=True)"
   ]
  },
  {
   "cell_type": "code",
   "execution_count": 23,
   "metadata": {
    "scrolled": true
   },
   "outputs": [],
   "source": [
    "df.rename(columns={'Category_ID_y':'Category_ID'}, inplace=True)"
   ]
  },
  {
   "cell_type": "code",
   "execution_count": 24,
   "metadata": {
    "scrolled": true
   },
   "outputs": [
    {
     "data": {
      "text/html": [
       "<div>\n",
       "<style scoped>\n",
       "    .dataframe tbody tr th:only-of-type {\n",
       "        vertical-align: middle;\n",
       "    }\n",
       "\n",
       "    .dataframe tbody tr th {\n",
       "        vertical-align: top;\n",
       "    }\n",
       "\n",
       "    .dataframe thead th {\n",
       "        text-align: right;\n",
       "    }\n",
       "</style>\n",
       "<table border=\"1\" class=\"dataframe\">\n",
       "  <thead>\n",
       "    <tr style=\"text-align: right;\">\n",
       "      <th></th>\n",
       "      <th>Product_ID</th>\n",
       "      <th>Transaction_ID</th>\n",
       "      <th>Sales</th>\n",
       "      <th>Units</th>\n",
       "      <th>Category_ID</th>\n",
       "      <th>Cost</th>\n",
       "    </tr>\n",
       "  </thead>\n",
       "  <tbody>\n",
       "    <tr>\n",
       "      <th>0</th>\n",
       "      <td>1556123</td>\n",
       "      <td>4393412335</td>\n",
       "      <td>23</td>\n",
       "      <td>1</td>\n",
       "      <td>1442</td>\n",
       "      <td>12.00</td>\n",
       "    </tr>\n",
       "    <tr>\n",
       "      <th>1</th>\n",
       "      <td>1556123</td>\n",
       "      <td>4393829655</td>\n",
       "      <td>23</td>\n",
       "      <td>1</td>\n",
       "      <td>1442</td>\n",
       "      <td>12.00</td>\n",
       "    </tr>\n",
       "    <tr>\n",
       "      <th>2</th>\n",
       "      <td>1556123</td>\n",
       "      <td>4393943402</td>\n",
       "      <td>23</td>\n",
       "      <td>1</td>\n",
       "      <td>1442</td>\n",
       "      <td>12.00</td>\n",
       "    </tr>\n",
       "    <tr>\n",
       "      <th>3</th>\n",
       "      <td>1556123</td>\n",
       "      <td>4394006317</td>\n",
       "      <td>23</td>\n",
       "      <td>1</td>\n",
       "      <td>1442</td>\n",
       "      <td>12.00</td>\n",
       "    </tr>\n",
       "    <tr>\n",
       "      <th>4</th>\n",
       "      <td>1556123</td>\n",
       "      <td>4394193435</td>\n",
       "      <td>23</td>\n",
       "      <td>1</td>\n",
       "      <td>1442</td>\n",
       "      <td>12.00</td>\n",
       "    </tr>\n",
       "  </tbody>\n",
       "</table>\n",
       "</div>"
      ],
      "text/plain": [
       "   Product_ID  Transaction_ID  Sales  Units  Category_ID  Cost\n",
       "0     1556123      4393412335     23      1         1442 12.00\n",
       "1     1556123      4393829655     23      1         1442 12.00\n",
       "2     1556123      4393943402     23      1         1442 12.00\n",
       "3     1556123      4394006317     23      1         1442 12.00\n",
       "4     1556123      4394193435     23      1         1442 12.00"
      ]
     },
     "execution_count": 24,
     "metadata": {},
     "output_type": "execute_result"
    }
   ],
   "source": [
    "df.head()"
   ]
  },
  {
   "cell_type": "markdown",
   "metadata": {},
   "source": [
    "## <u> Part 2</u> : Finding which products are important in the category \"1423\" and find top 5 of those products."
   ]
  },
  {
   "cell_type": "markdown",
   "metadata": {},
   "source": [
    "Since we are only interested in data within the category <b>\"1423\"</b>, lets filter it out."
   ]
  },
  {
   "cell_type": "code",
   "execution_count": 25,
   "metadata": {
    "scrolled": true
   },
   "outputs": [],
   "source": [
    "df=df[df.Category_ID==1423]"
   ]
  },
  {
   "cell_type": "code",
   "execution_count": 26,
   "metadata": {
    "scrolled": true
   },
   "outputs": [
    {
     "data": {
      "text/html": [
       "<div>\n",
       "<style scoped>\n",
       "    .dataframe tbody tr th:only-of-type {\n",
       "        vertical-align: middle;\n",
       "    }\n",
       "\n",
       "    .dataframe tbody tr th {\n",
       "        vertical-align: top;\n",
       "    }\n",
       "\n",
       "    .dataframe thead th {\n",
       "        text-align: right;\n",
       "    }\n",
       "</style>\n",
       "<table border=\"1\" class=\"dataframe\">\n",
       "  <thead>\n",
       "    <tr style=\"text-align: right;\">\n",
       "      <th></th>\n",
       "      <th>Product_ID</th>\n",
       "      <th>Transaction_ID</th>\n",
       "      <th>Sales</th>\n",
       "      <th>Units</th>\n",
       "      <th>Category_ID</th>\n",
       "      <th>Cost</th>\n",
       "    </tr>\n",
       "  </thead>\n",
       "  <tbody>\n",
       "    <tr>\n",
       "      <th>355</th>\n",
       "      <td>3465709</td>\n",
       "      <td>4393412335</td>\n",
       "      <td>470</td>\n",
       "      <td>1</td>\n",
       "      <td>1423</td>\n",
       "      <td>254.00</td>\n",
       "    </tr>\n",
       "    <tr>\n",
       "      <th>356</th>\n",
       "      <td>3465709</td>\n",
       "      <td>4393415854</td>\n",
       "      <td>470</td>\n",
       "      <td>1</td>\n",
       "      <td>1423</td>\n",
       "      <td>254.00</td>\n",
       "    </tr>\n",
       "    <tr>\n",
       "      <th>357</th>\n",
       "      <td>3465709</td>\n",
       "      <td>4393423348</td>\n",
       "      <td>520</td>\n",
       "      <td>1</td>\n",
       "      <td>1423</td>\n",
       "      <td>254.00</td>\n",
       "    </tr>\n",
       "    <tr>\n",
       "      <th>358</th>\n",
       "      <td>3465709</td>\n",
       "      <td>4393432080</td>\n",
       "      <td>470</td>\n",
       "      <td>1</td>\n",
       "      <td>1423</td>\n",
       "      <td>254.00</td>\n",
       "    </tr>\n",
       "    <tr>\n",
       "      <th>359</th>\n",
       "      <td>3465709</td>\n",
       "      <td>4393435064</td>\n",
       "      <td>470</td>\n",
       "      <td>1</td>\n",
       "      <td>1423</td>\n",
       "      <td>254.00</td>\n",
       "    </tr>\n",
       "  </tbody>\n",
       "</table>\n",
       "</div>"
      ],
      "text/plain": [
       "     Product_ID  Transaction_ID  Sales  Units  Category_ID   Cost\n",
       "355     3465709      4393412335    470      1         1423 254.00\n",
       "356     3465709      4393415854    470      1         1423 254.00\n",
       "357     3465709      4393423348    520      1         1423 254.00\n",
       "358     3465709      4393432080    470      1         1423 254.00\n",
       "359     3465709      4393435064    470      1         1423 254.00"
      ]
     },
     "execution_count": 26,
     "metadata": {},
     "output_type": "execute_result"
    }
   ],
   "source": [
    "df.head()"
   ]
  },
  {
   "cell_type": "code",
   "execution_count": 27,
   "metadata": {
    "scrolled": true
   },
   "outputs": [
    {
     "data": {
      "text/plain": [
       "84521"
      ]
     },
     "execution_count": 27,
     "metadata": {},
     "output_type": "execute_result"
    }
   ],
   "source": [
    "len(df)"
   ]
  },
  {
   "cell_type": "markdown",
   "metadata": {},
   "source": [
    "The factors for determining which products are <b>important</b> could be as follows (in the given sequence of importance) - \n",
    "1. Highest number of sales of that product (Count of <b>Transaction_IDs</b> for each Product_ID) \n",
    "2. Sales generated for the product are high within a transaction (<b>Sales</b> generated from units sold of the Product)\n",
    "3. Number of <b>units</b> sold in each transaction \n",
    "4. Staples' <b>Cost</b> for single unit is higher \n",
    "\n",
    "Lets find top 5 products that satisfy these conditions."
   ]
  },
  {
   "cell_type": "markdown",
   "metadata": {},
   "source": [
    "First, for each product, we need to count the number of transactions. "
   ]
  },
  {
   "cell_type": "code",
   "execution_count": 28,
   "metadata": {
    "scrolled": true
   },
   "outputs": [],
   "source": [
    "transaction_count=pd.DataFrame(df.groupby('Product_ID')['Transaction_ID'].count()).reset_index()"
   ]
  },
  {
   "cell_type": "code",
   "execution_count": 29,
   "metadata": {
    "scrolled": true
   },
   "outputs": [
    {
     "data": {
      "text/html": [
       "<div>\n",
       "<style scoped>\n",
       "    .dataframe tbody tr th:only-of-type {\n",
       "        vertical-align: middle;\n",
       "    }\n",
       "\n",
       "    .dataframe tbody tr th {\n",
       "        vertical-align: top;\n",
       "    }\n",
       "\n",
       "    .dataframe thead th {\n",
       "        text-align: right;\n",
       "    }\n",
       "</style>\n",
       "<table border=\"1\" class=\"dataframe\">\n",
       "  <thead>\n",
       "    <tr style=\"text-align: right;\">\n",
       "      <th></th>\n",
       "      <th>Product_ID</th>\n",
       "      <th>Transaction_ID</th>\n",
       "    </tr>\n",
       "  </thead>\n",
       "  <tbody>\n",
       "    <tr>\n",
       "      <th>0</th>\n",
       "      <td>2004295</td>\n",
       "      <td>493</td>\n",
       "    </tr>\n",
       "    <tr>\n",
       "      <th>1</th>\n",
       "      <td>2360207</td>\n",
       "      <td>1</td>\n",
       "    </tr>\n",
       "    <tr>\n",
       "      <th>2</th>\n",
       "      <td>2861793</td>\n",
       "      <td>1</td>\n",
       "    </tr>\n",
       "    <tr>\n",
       "      <th>3</th>\n",
       "      <td>2875082</td>\n",
       "      <td>1</td>\n",
       "    </tr>\n",
       "    <tr>\n",
       "      <th>4</th>\n",
       "      <td>2875083</td>\n",
       "      <td>2</td>\n",
       "    </tr>\n",
       "  </tbody>\n",
       "</table>\n",
       "</div>"
      ],
      "text/plain": [
       "   Product_ID  Transaction_ID\n",
       "0     2004295             493\n",
       "1     2360207               1\n",
       "2     2861793               1\n",
       "3     2875082               1\n",
       "4     2875083               2"
      ]
     },
     "execution_count": 29,
     "metadata": {},
     "output_type": "execute_result"
    }
   ],
   "source": [
    "transaction_count.head()"
   ]
  },
  {
   "cell_type": "code",
   "execution_count": 30,
   "metadata": {
    "scrolled": true
   },
   "outputs": [],
   "source": [
    "transaction_count.rename(columns={'Transaction_ID':'Transaction_ID_count'}, inplace=True)"
   ]
  },
  {
   "cell_type": "markdown",
   "metadata": {},
   "source": [
    "We want to add this transaction count to the dataframe for each Product_ID."
   ]
  },
  {
   "cell_type": "code",
   "execution_count": 31,
   "metadata": {
    "scrolled": true
   },
   "outputs": [],
   "source": [
    "df=pd.merge(df,transaction_count,on='Product_ID')"
   ]
  },
  {
   "cell_type": "code",
   "execution_count": 32,
   "metadata": {
    "scrolled": true
   },
   "outputs": [
    {
     "data": {
      "text/html": [
       "<div>\n",
       "<style scoped>\n",
       "    .dataframe tbody tr th:only-of-type {\n",
       "        vertical-align: middle;\n",
       "    }\n",
       "\n",
       "    .dataframe tbody tr th {\n",
       "        vertical-align: top;\n",
       "    }\n",
       "\n",
       "    .dataframe thead th {\n",
       "        text-align: right;\n",
       "    }\n",
       "</style>\n",
       "<table border=\"1\" class=\"dataframe\">\n",
       "  <thead>\n",
       "    <tr style=\"text-align: right;\">\n",
       "      <th></th>\n",
       "      <th>Product_ID</th>\n",
       "      <th>Transaction_ID</th>\n",
       "      <th>Sales</th>\n",
       "      <th>Units</th>\n",
       "      <th>Category_ID</th>\n",
       "      <th>Cost</th>\n",
       "      <th>Transaction_ID_count</th>\n",
       "    </tr>\n",
       "  </thead>\n",
       "  <tbody>\n",
       "    <tr>\n",
       "      <th>0</th>\n",
       "      <td>3465709</td>\n",
       "      <td>4393412335</td>\n",
       "      <td>470</td>\n",
       "      <td>1</td>\n",
       "      <td>1423</td>\n",
       "      <td>254.00</td>\n",
       "      <td>3103</td>\n",
       "    </tr>\n",
       "    <tr>\n",
       "      <th>1</th>\n",
       "      <td>3465709</td>\n",
       "      <td>4393415854</td>\n",
       "      <td>470</td>\n",
       "      <td>1</td>\n",
       "      <td>1423</td>\n",
       "      <td>254.00</td>\n",
       "      <td>3103</td>\n",
       "    </tr>\n",
       "    <tr>\n",
       "      <th>2</th>\n",
       "      <td>3465709</td>\n",
       "      <td>4393423348</td>\n",
       "      <td>520</td>\n",
       "      <td>1</td>\n",
       "      <td>1423</td>\n",
       "      <td>254.00</td>\n",
       "      <td>3103</td>\n",
       "    </tr>\n",
       "    <tr>\n",
       "      <th>3</th>\n",
       "      <td>3465709</td>\n",
       "      <td>4393432080</td>\n",
       "      <td>470</td>\n",
       "      <td>1</td>\n",
       "      <td>1423</td>\n",
       "      <td>254.00</td>\n",
       "      <td>3103</td>\n",
       "    </tr>\n",
       "    <tr>\n",
       "      <th>4</th>\n",
       "      <td>3465709</td>\n",
       "      <td>4393435064</td>\n",
       "      <td>470</td>\n",
       "      <td>1</td>\n",
       "      <td>1423</td>\n",
       "      <td>254.00</td>\n",
       "      <td>3103</td>\n",
       "    </tr>\n",
       "  </tbody>\n",
       "</table>\n",
       "</div>"
      ],
      "text/plain": [
       "   Product_ID  Transaction_ID  Sales  Units  Category_ID   Cost  \\\n",
       "0     3465709      4393412335    470      1         1423 254.00   \n",
       "1     3465709      4393415854    470      1         1423 254.00   \n",
       "2     3465709      4393423348    520      1         1423 254.00   \n",
       "3     3465709      4393432080    470      1         1423 254.00   \n",
       "4     3465709      4393435064    470      1         1423 254.00   \n",
       "\n",
       "   Transaction_ID_count  \n",
       "0                  3103  \n",
       "1                  3103  \n",
       "2                  3103  \n",
       "3                  3103  \n",
       "4                  3103  "
      ]
     },
     "execution_count": 32,
     "metadata": {},
     "output_type": "execute_result"
    }
   ],
   "source": [
    "df.head()"
   ]
  },
  {
   "cell_type": "markdown",
   "metadata": {},
   "source": [
    "Now, lets sort the values in the order of importance as mentioned above."
   ]
  },
  {
   "cell_type": "code",
   "execution_count": 33,
   "metadata": {
    "scrolled": false
   },
   "outputs": [
    {
     "data": {
      "text/html": [
       "<div>\n",
       "<style scoped>\n",
       "    .dataframe tbody tr th:only-of-type {\n",
       "        vertical-align: middle;\n",
       "    }\n",
       "\n",
       "    .dataframe tbody tr th {\n",
       "        vertical-align: top;\n",
       "    }\n",
       "\n",
       "    .dataframe thead th {\n",
       "        text-align: right;\n",
       "    }\n",
       "</style>\n",
       "<table border=\"1\" class=\"dataframe\">\n",
       "  <thead>\n",
       "    <tr style=\"text-align: right;\">\n",
       "      <th></th>\n",
       "      <th>Product_ID</th>\n",
       "      <th>Transaction_ID</th>\n",
       "      <th>Sales</th>\n",
       "      <th>Units</th>\n",
       "      <th>Category_ID</th>\n",
       "      <th>Cost</th>\n",
       "      <th>Transaction_ID_count</th>\n",
       "    </tr>\n",
       "  </thead>\n",
       "  <tbody>\n",
       "    <tr>\n",
       "      <th>28997</th>\n",
       "      <td>3910992</td>\n",
       "      <td>4447473651</td>\n",
       "      <td>2120</td>\n",
       "      <td>4</td>\n",
       "      <td>1423</td>\n",
       "      <td>261.00</td>\n",
       "      <td>14837</td>\n",
       "    </tr>\n",
       "    <tr>\n",
       "      <th>77005</th>\n",
       "      <td>3910526</td>\n",
       "      <td>4445130155</td>\n",
       "      <td>1900</td>\n",
       "      <td>4</td>\n",
       "      <td>1423</td>\n",
       "      <td>262.00</td>\n",
       "      <td>9956</td>\n",
       "    </tr>\n",
       "    <tr>\n",
       "      <th>36631</th>\n",
       "      <td>3910528</td>\n",
       "      <td>4418837237</td>\n",
       "      <td>1880</td>\n",
       "      <td>4</td>\n",
       "      <td>1423</td>\n",
       "      <td>232.00</td>\n",
       "      <td>9087</td>\n",
       "    </tr>\n",
       "    <tr>\n",
       "      <th>54081</th>\n",
       "      <td>3910996</td>\n",
       "      <td>4473151996</td>\n",
       "      <td>3200</td>\n",
       "      <td>5</td>\n",
       "      <td>1423</td>\n",
       "      <td>303.00</td>\n",
       "      <td>8689</td>\n",
       "    </tr>\n",
       "    <tr>\n",
       "      <th>70414</th>\n",
       "      <td>3910995</td>\n",
       "      <td>4461541079</td>\n",
       "      <td>2828</td>\n",
       "      <td>4</td>\n",
       "      <td>1423</td>\n",
       "      <td>382.00</td>\n",
       "      <td>8068</td>\n",
       "    </tr>\n",
       "    <tr>\n",
       "      <th>...</th>\n",
       "      <td>...</td>\n",
       "      <td>...</td>\n",
       "      <td>...</td>\n",
       "      <td>...</td>\n",
       "      <td>...</td>\n",
       "      <td>...</td>\n",
       "      <td>...</td>\n",
       "    </tr>\n",
       "    <tr>\n",
       "      <th>21550</th>\n",
       "      <td>2942416</td>\n",
       "      <td>4404714289</td>\n",
       "      <td>250</td>\n",
       "      <td>1</td>\n",
       "      <td>1423</td>\n",
       "      <td>135.00</td>\n",
       "      <td>1</td>\n",
       "    </tr>\n",
       "    <tr>\n",
       "      <th>84484</th>\n",
       "      <td>2875082</td>\n",
       "      <td>4463806825</td>\n",
       "      <td>200</td>\n",
       "      <td>1</td>\n",
       "      <td>1423</td>\n",
       "      <td>108.00</td>\n",
       "      <td>1</td>\n",
       "    </tr>\n",
       "    <tr>\n",
       "      <th>21665</th>\n",
       "      <td>2861793</td>\n",
       "      <td>4409579033</td>\n",
       "      <td>144</td>\n",
       "      <td>1</td>\n",
       "      <td>1423</td>\n",
       "      <td>78.00</td>\n",
       "      <td>1</td>\n",
       "    </tr>\n",
       "    <tr>\n",
       "      <th>19165</th>\n",
       "      <td>3709203</td>\n",
       "      <td>4396485741</td>\n",
       "      <td>117</td>\n",
       "      <td>1</td>\n",
       "      <td>1423</td>\n",
       "      <td>63.00</td>\n",
       "      <td>1</td>\n",
       "    </tr>\n",
       "    <tr>\n",
       "      <th>21664</th>\n",
       "      <td>3772171</td>\n",
       "      <td>4408603624</td>\n",
       "      <td>55</td>\n",
       "      <td>1</td>\n",
       "      <td>1423</td>\n",
       "      <td>30.00</td>\n",
       "      <td>1</td>\n",
       "    </tr>\n",
       "  </tbody>\n",
       "</table>\n",
       "<p>104 rows × 7 columns</p>\n",
       "</div>"
      ],
      "text/plain": [
       "       Product_ID  Transaction_ID  Sales  Units  Category_ID   Cost  \\\n",
       "28997     3910992      4447473651   2120      4         1423 261.00   \n",
       "77005     3910526      4445130155   1900      4         1423 262.00   \n",
       "36631     3910528      4418837237   1880      4         1423 232.00   \n",
       "54081     3910996      4473151996   3200      5         1423 303.00   \n",
       "70414     3910995      4461541079   2828      4         1423 382.00   \n",
       "...           ...             ...    ...    ...          ...    ...   \n",
       "21550     2942416      4404714289    250      1         1423 135.00   \n",
       "84484     2875082      4463806825    200      1         1423 108.00   \n",
       "21665     2861793      4409579033    144      1         1423  78.00   \n",
       "19165     3709203      4396485741    117      1         1423  63.00   \n",
       "21664     3772171      4408603624     55      1         1423  30.00   \n",
       "\n",
       "       Transaction_ID_count  \n",
       "28997                 14837  \n",
       "77005                  9956  \n",
       "36631                  9087  \n",
       "54081                  8689  \n",
       "70414                  8068  \n",
       "...                     ...  \n",
       "21550                     1  \n",
       "84484                     1  \n",
       "21665                     1  \n",
       "19165                     1  \n",
       "21664                     1  \n",
       "\n",
       "[104 rows x 7 columns]"
      ]
     },
     "execution_count": 33,
     "metadata": {},
     "output_type": "execute_result"
    }
   ],
   "source": [
    "df.sort_values(['Transaction_ID_count','Sales','Units','Cost'], ascending=[False, False, False, False])\\\n",
    "    .groupby('Product_ID').head(1)"
   ]
  },
  {
   "cell_type": "code",
   "execution_count": 34,
   "metadata": {
    "scrolled": true
   },
   "outputs": [],
   "source": [
    "sorted_df=df.sort_values(['Transaction_ID_count','Sales','Units','Cost'], ascending=[False, False, False, False])\\\n",
    "    .groupby('Product_ID').head(1)"
   ]
  },
  {
   "cell_type": "code",
   "execution_count": 35,
   "metadata": {
    "scrolled": true
   },
   "outputs": [
    {
     "data": {
      "text/html": [
       "<div>\n",
       "<style scoped>\n",
       "    .dataframe tbody tr th:only-of-type {\n",
       "        vertical-align: middle;\n",
       "    }\n",
       "\n",
       "    .dataframe tbody tr th {\n",
       "        vertical-align: top;\n",
       "    }\n",
       "\n",
       "    .dataframe thead th {\n",
       "        text-align: right;\n",
       "    }\n",
       "</style>\n",
       "<table border=\"1\" class=\"dataframe\">\n",
       "  <thead>\n",
       "    <tr style=\"text-align: right;\">\n",
       "      <th></th>\n",
       "      <th>Product_ID</th>\n",
       "      <th>Transaction_ID</th>\n",
       "      <th>Sales</th>\n",
       "      <th>Units</th>\n",
       "      <th>Category_ID</th>\n",
       "      <th>Cost</th>\n",
       "      <th>Transaction_ID_count</th>\n",
       "    </tr>\n",
       "  </thead>\n",
       "  <tbody>\n",
       "    <tr>\n",
       "      <th>28997</th>\n",
       "      <td>3910992</td>\n",
       "      <td>4447473651</td>\n",
       "      <td>2120</td>\n",
       "      <td>4</td>\n",
       "      <td>1423</td>\n",
       "      <td>261.00</td>\n",
       "      <td>14837</td>\n",
       "    </tr>\n",
       "    <tr>\n",
       "      <th>77005</th>\n",
       "      <td>3910526</td>\n",
       "      <td>4445130155</td>\n",
       "      <td>1900</td>\n",
       "      <td>4</td>\n",
       "      <td>1423</td>\n",
       "      <td>262.00</td>\n",
       "      <td>9956</td>\n",
       "    </tr>\n",
       "    <tr>\n",
       "      <th>36631</th>\n",
       "      <td>3910528</td>\n",
       "      <td>4418837237</td>\n",
       "      <td>1880</td>\n",
       "      <td>4</td>\n",
       "      <td>1423</td>\n",
       "      <td>232.00</td>\n",
       "      <td>9087</td>\n",
       "    </tr>\n",
       "    <tr>\n",
       "      <th>54081</th>\n",
       "      <td>3910996</td>\n",
       "      <td>4473151996</td>\n",
       "      <td>3200</td>\n",
       "      <td>5</td>\n",
       "      <td>1423</td>\n",
       "      <td>303.00</td>\n",
       "      <td>8689</td>\n",
       "    </tr>\n",
       "    <tr>\n",
       "      <th>70414</th>\n",
       "      <td>3910995</td>\n",
       "      <td>4461541079</td>\n",
       "      <td>2828</td>\n",
       "      <td>4</td>\n",
       "      <td>1423</td>\n",
       "      <td>382.00</td>\n",
       "      <td>8068</td>\n",
       "    </tr>\n",
       "  </tbody>\n",
       "</table>\n",
       "</div>"
      ],
      "text/plain": [
       "       Product_ID  Transaction_ID  Sales  Units  Category_ID   Cost  \\\n",
       "28997     3910992      4447473651   2120      4         1423 261.00   \n",
       "77005     3910526      4445130155   1900      4         1423 262.00   \n",
       "36631     3910528      4418837237   1880      4         1423 232.00   \n",
       "54081     3910996      4473151996   3200      5         1423 303.00   \n",
       "70414     3910995      4461541079   2828      4         1423 382.00   \n",
       "\n",
       "       Transaction_ID_count  \n",
       "28997                 14837  \n",
       "77005                  9956  \n",
       "36631                  9087  \n",
       "54081                  8689  \n",
       "70414                  8068  "
      ]
     },
     "execution_count": 35,
     "metadata": {},
     "output_type": "execute_result"
    }
   ],
   "source": [
    "sorted_df.head()"
   ]
  },
  {
   "cell_type": "code",
   "execution_count": 36,
   "metadata": {
    "scrolled": true
   },
   "outputs": [],
   "source": [
    "top_products = sorted_df.head().Product_ID.to_list()"
   ]
  },
  {
   "cell_type": "code",
   "execution_count": 37,
   "metadata": {
    "scrolled": true
   },
   "outputs": [
    {
     "data": {
      "text/plain": [
       "[3910992, 3910526, 3910528, 3910996, 3910995]"
      ]
     },
     "execution_count": 37,
     "metadata": {},
     "output_type": "execute_result"
    }
   ],
   "source": [
    "top_products"
   ]
  },
  {
   "cell_type": "markdown",
   "metadata": {},
   "source": [
    "These are the top 5 Products based on above assumptions. Now, forecast the number of units sold per week for 8 weeks following week ending in 10/28/17"
   ]
  },
  {
   "cell_type": "markdown",
   "metadata": {},
   "source": [
    "## <u> Part 3</u> : Preparing data for forecasting / Data cleaning"
   ]
  },
  {
   "cell_type": "markdown",
   "metadata": {},
   "source": [
    "We need to forecast units sold per week for the top 5 products for <b> 8 weeks </b> following week ending in 10/28/17"
   ]
  },
  {
   "cell_type": "markdown",
   "metadata": {},
   "source": [
    "Let's start with Product 1, which is -"
   ]
  },
  {
   "cell_type": "code",
   "execution_count": 38,
   "metadata": {
    "scrolled": false
   },
   "outputs": [
    {
     "data": {
      "text/plain": [
       "3910992"
      ]
     },
     "execution_count": 38,
     "metadata": {},
     "output_type": "execute_result"
    }
   ],
   "source": [
    "top_products[0]"
   ]
  },
  {
   "cell_type": "code",
   "execution_count": 39,
   "metadata": {
    "scrolled": true
   },
   "outputs": [
    {
     "data": {
      "text/html": [
       "<div>\n",
       "<style scoped>\n",
       "    .dataframe tbody tr th:only-of-type {\n",
       "        vertical-align: middle;\n",
       "    }\n",
       "\n",
       "    .dataframe tbody tr th {\n",
       "        vertical-align: top;\n",
       "    }\n",
       "\n",
       "    .dataframe thead th {\n",
       "        text-align: right;\n",
       "    }\n",
       "</style>\n",
       "<table border=\"1\" class=\"dataframe\">\n",
       "  <thead>\n",
       "    <tr style=\"text-align: right;\">\n",
       "      <th></th>\n",
       "      <th>Product_ID</th>\n",
       "      <th>Category_ID</th>\n",
       "      <th>Transaction_ID</th>\n",
       "      <th>Sales</th>\n",
       "      <th>Units</th>\n",
       "    </tr>\n",
       "    <tr>\n",
       "      <th>SalesDate</th>\n",
       "      <th></th>\n",
       "      <th></th>\n",
       "      <th></th>\n",
       "      <th></th>\n",
       "      <th></th>\n",
       "    </tr>\n",
       "  </thead>\n",
       "  <tbody>\n",
       "    <tr>\n",
       "      <th>6/19/2017</th>\n",
       "      <td>3910992</td>\n",
       "      <td>1423</td>\n",
       "      <td>4413494691</td>\n",
       "      <td>530</td>\n",
       "      <td>1</td>\n",
       "    </tr>\n",
       "    <tr>\n",
       "      <th>6/21/2017</th>\n",
       "      <td>3910992</td>\n",
       "      <td>1423</td>\n",
       "      <td>4414524556</td>\n",
       "      <td>530</td>\n",
       "      <td>1</td>\n",
       "    </tr>\n",
       "    <tr>\n",
       "      <th>6/21/2017</th>\n",
       "      <td>3910992</td>\n",
       "      <td>1423</td>\n",
       "      <td>4414548136</td>\n",
       "      <td>530</td>\n",
       "      <td>1</td>\n",
       "    </tr>\n",
       "    <tr>\n",
       "      <th>6/21/2017</th>\n",
       "      <td>3910992</td>\n",
       "      <td>1423</td>\n",
       "      <td>4414598511</td>\n",
       "      <td>530</td>\n",
       "      <td>1</td>\n",
       "    </tr>\n",
       "    <tr>\n",
       "      <th>6/22/2017</th>\n",
       "      <td>3910992</td>\n",
       "      <td>1423</td>\n",
       "      <td>4414799088</td>\n",
       "      <td>530</td>\n",
       "      <td>1</td>\n",
       "    </tr>\n",
       "    <tr>\n",
       "      <th>...</th>\n",
       "      <td>...</td>\n",
       "      <td>...</td>\n",
       "      <td>...</td>\n",
       "      <td>...</td>\n",
       "      <td>...</td>\n",
       "    </tr>\n",
       "    <tr>\n",
       "      <th>11/1/2017</th>\n",
       "      <td>3910992</td>\n",
       "      <td>1423</td>\n",
       "      <td>4475803215</td>\n",
       "      <td>494</td>\n",
       "      <td>1</td>\n",
       "    </tr>\n",
       "    <tr>\n",
       "      <th>11/1/2017</th>\n",
       "      <td>3910992</td>\n",
       "      <td>1423</td>\n",
       "      <td>4475805577</td>\n",
       "      <td>494</td>\n",
       "      <td>1</td>\n",
       "    </tr>\n",
       "    <tr>\n",
       "      <th>11/1/2017</th>\n",
       "      <td>3910992</td>\n",
       "      <td>1423</td>\n",
       "      <td>4475807303</td>\n",
       "      <td>494</td>\n",
       "      <td>1</td>\n",
       "    </tr>\n",
       "    <tr>\n",
       "      <th>11/1/2017</th>\n",
       "      <td>3910992</td>\n",
       "      <td>1423</td>\n",
       "      <td>4475808474</td>\n",
       "      <td>494</td>\n",
       "      <td>1</td>\n",
       "    </tr>\n",
       "    <tr>\n",
       "      <th>11/1/2017</th>\n",
       "      <td>3910992</td>\n",
       "      <td>1423</td>\n",
       "      <td>4475816126</td>\n",
       "      <td>494</td>\n",
       "      <td>1</td>\n",
       "    </tr>\n",
       "  </tbody>\n",
       "</table>\n",
       "<p>14837 rows × 5 columns</p>\n",
       "</div>"
      ],
      "text/plain": [
       "           Product_ID  Category_ID  Transaction_ID  Sales  Units\n",
       "SalesDate                                                       \n",
       "6/19/2017     3910992         1423      4413494691    530      1\n",
       "6/21/2017     3910992         1423      4414524556    530      1\n",
       "6/21/2017     3910992         1423      4414548136    530      1\n",
       "6/21/2017     3910992         1423      4414598511    530      1\n",
       "6/22/2017     3910992         1423      4414799088    530      1\n",
       "...               ...          ...             ...    ...    ...\n",
       "11/1/2017     3910992         1423      4475803215    494      1\n",
       "11/1/2017     3910992         1423      4475805577    494      1\n",
       "11/1/2017     3910992         1423      4475807303    494      1\n",
       "11/1/2017     3910992         1423      4475808474    494      1\n",
       "11/1/2017     3910992         1423      4475816126    494      1\n",
       "\n",
       "[14837 rows x 5 columns]"
      ]
     },
     "execution_count": 39,
     "metadata": {},
     "output_type": "execute_result"
    }
   ],
   "source": [
    "df_tld[df_tld.Product_ID==top_products[0]]"
   ]
  },
  {
   "cell_type": "code",
   "execution_count": 40,
   "metadata": {
    "scrolled": true
   },
   "outputs": [],
   "source": [
    "df_p1=df_tld[df_tld.Product_ID==top_products[0]].copy()"
   ]
  },
  {
   "cell_type": "markdown",
   "metadata": {},
   "source": [
    "We are only interested in the Sales data."
   ]
  },
  {
   "cell_type": "code",
   "execution_count": 41,
   "metadata": {
    "scrolled": true
   },
   "outputs": [],
   "source": [
    "df_p1.drop(columns=['Product_ID','Category_ID','Transaction_ID','Sales'],inplace=True)"
   ]
  },
  {
   "cell_type": "code",
   "execution_count": 42,
   "metadata": {
    "scrolled": true
   },
   "outputs": [
    {
     "data": {
      "text/html": [
       "<div>\n",
       "<style scoped>\n",
       "    .dataframe tbody tr th:only-of-type {\n",
       "        vertical-align: middle;\n",
       "    }\n",
       "\n",
       "    .dataframe tbody tr th {\n",
       "        vertical-align: top;\n",
       "    }\n",
       "\n",
       "    .dataframe thead th {\n",
       "        text-align: right;\n",
       "    }\n",
       "</style>\n",
       "<table border=\"1\" class=\"dataframe\">\n",
       "  <thead>\n",
       "    <tr style=\"text-align: right;\">\n",
       "      <th></th>\n",
       "      <th>Units</th>\n",
       "    </tr>\n",
       "    <tr>\n",
       "      <th>SalesDate</th>\n",
       "      <th></th>\n",
       "    </tr>\n",
       "  </thead>\n",
       "  <tbody>\n",
       "    <tr>\n",
       "      <th>6/19/2017</th>\n",
       "      <td>1</td>\n",
       "    </tr>\n",
       "    <tr>\n",
       "      <th>6/21/2017</th>\n",
       "      <td>1</td>\n",
       "    </tr>\n",
       "    <tr>\n",
       "      <th>6/21/2017</th>\n",
       "      <td>1</td>\n",
       "    </tr>\n",
       "    <tr>\n",
       "      <th>6/21/2017</th>\n",
       "      <td>1</td>\n",
       "    </tr>\n",
       "    <tr>\n",
       "      <th>6/22/2017</th>\n",
       "      <td>1</td>\n",
       "    </tr>\n",
       "    <tr>\n",
       "      <th>6/22/2017</th>\n",
       "      <td>1</td>\n",
       "    </tr>\n",
       "    <tr>\n",
       "      <th>6/22/2017</th>\n",
       "      <td>1</td>\n",
       "    </tr>\n",
       "    <tr>\n",
       "      <th>6/22/2017</th>\n",
       "      <td>1</td>\n",
       "    </tr>\n",
       "    <tr>\n",
       "      <th>6/22/2017</th>\n",
       "      <td>1</td>\n",
       "    </tr>\n",
       "    <tr>\n",
       "      <th>6/23/2017</th>\n",
       "      <td>1</td>\n",
       "    </tr>\n",
       "  </tbody>\n",
       "</table>\n",
       "</div>"
      ],
      "text/plain": [
       "           Units\n",
       "SalesDate       \n",
       "6/19/2017      1\n",
       "6/21/2017      1\n",
       "6/21/2017      1\n",
       "6/21/2017      1\n",
       "6/22/2017      1\n",
       "6/22/2017      1\n",
       "6/22/2017      1\n",
       "6/22/2017      1\n",
       "6/22/2017      1\n",
       "6/23/2017      1"
      ]
     },
     "execution_count": 42,
     "metadata": {},
     "output_type": "execute_result"
    }
   ],
   "source": [
    "df_p1.head(10)"
   ]
  },
  {
   "cell_type": "code",
   "execution_count": 43,
   "metadata": {
    "scrolled": true
   },
   "outputs": [],
   "source": [
    "# Converting the index as date format for python\n",
    "df_p1.index = pd.to_datetime(df_p1.index)"
   ]
  },
  {
   "cell_type": "code",
   "execution_count": 44,
   "metadata": {
    "scrolled": true
   },
   "outputs": [
    {
     "data": {
      "text/html": [
       "<div>\n",
       "<style scoped>\n",
       "    .dataframe tbody tr th:only-of-type {\n",
       "        vertical-align: middle;\n",
       "    }\n",
       "\n",
       "    .dataframe tbody tr th {\n",
       "        vertical-align: top;\n",
       "    }\n",
       "\n",
       "    .dataframe thead th {\n",
       "        text-align: right;\n",
       "    }\n",
       "</style>\n",
       "<table border=\"1\" class=\"dataframe\">\n",
       "  <thead>\n",
       "    <tr style=\"text-align: right;\">\n",
       "      <th></th>\n",
       "      <th>Units</th>\n",
       "    </tr>\n",
       "    <tr>\n",
       "      <th>SalesDate</th>\n",
       "      <th></th>\n",
       "    </tr>\n",
       "  </thead>\n",
       "  <tbody>\n",
       "    <tr>\n",
       "      <th>2017-06-19</th>\n",
       "      <td>1</td>\n",
       "    </tr>\n",
       "    <tr>\n",
       "      <th>2017-06-21</th>\n",
       "      <td>1</td>\n",
       "    </tr>\n",
       "    <tr>\n",
       "      <th>2017-06-21</th>\n",
       "      <td>1</td>\n",
       "    </tr>\n",
       "    <tr>\n",
       "      <th>2017-06-21</th>\n",
       "      <td>1</td>\n",
       "    </tr>\n",
       "    <tr>\n",
       "      <th>2017-06-22</th>\n",
       "      <td>1</td>\n",
       "    </tr>\n",
       "  </tbody>\n",
       "</table>\n",
       "</div>"
      ],
      "text/plain": [
       "            Units\n",
       "SalesDate        \n",
       "2017-06-19      1\n",
       "2017-06-21      1\n",
       "2017-06-21      1\n",
       "2017-06-21      1\n",
       "2017-06-22      1"
      ]
     },
     "execution_count": 44,
     "metadata": {},
     "output_type": "execute_result"
    }
   ],
   "source": [
    "df_p1.head(5)"
   ]
  },
  {
   "cell_type": "markdown",
   "metadata": {},
   "source": [
    "Let's use the same technique for products 2, 3, 4 and 5 as well."
   ]
  },
  {
   "cell_type": "code",
   "execution_count": 45,
   "metadata": {
    "scrolled": true
   },
   "outputs": [
    {
     "data": {
      "text/html": [
       "<div>\n",
       "<style scoped>\n",
       "    .dataframe tbody tr th:only-of-type {\n",
       "        vertical-align: middle;\n",
       "    }\n",
       "\n",
       "    .dataframe tbody tr th {\n",
       "        vertical-align: top;\n",
       "    }\n",
       "\n",
       "    .dataframe thead th {\n",
       "        text-align: right;\n",
       "    }\n",
       "</style>\n",
       "<table border=\"1\" class=\"dataframe\">\n",
       "  <thead>\n",
       "    <tr style=\"text-align: right;\">\n",
       "      <th></th>\n",
       "      <th>Units</th>\n",
       "    </tr>\n",
       "    <tr>\n",
       "      <th>SalesDate</th>\n",
       "      <th></th>\n",
       "    </tr>\n",
       "  </thead>\n",
       "  <tbody>\n",
       "    <tr>\n",
       "      <th>2017-06-22</th>\n",
       "      <td>1</td>\n",
       "    </tr>\n",
       "    <tr>\n",
       "      <th>2017-06-23</th>\n",
       "      <td>1</td>\n",
       "    </tr>\n",
       "    <tr>\n",
       "      <th>2017-06-23</th>\n",
       "      <td>1</td>\n",
       "    </tr>\n",
       "    <tr>\n",
       "      <th>2017-06-24</th>\n",
       "      <td>1</td>\n",
       "    </tr>\n",
       "    <tr>\n",
       "      <th>2017-06-24</th>\n",
       "      <td>1</td>\n",
       "    </tr>\n",
       "  </tbody>\n",
       "</table>\n",
       "</div>"
      ],
      "text/plain": [
       "            Units\n",
       "SalesDate        \n",
       "2017-06-22      1\n",
       "2017-06-23      1\n",
       "2017-06-23      1\n",
       "2017-06-24      1\n",
       "2017-06-24      1"
      ]
     },
     "execution_count": 45,
     "metadata": {},
     "output_type": "execute_result"
    }
   ],
   "source": [
    "df_p2=df_tld[df_tld.Product_ID==top_products[1]].copy()\n",
    "df_p2.drop(columns=['Product_ID','Category_ID','Transaction_ID','Sales'],inplace=True)\n",
    "df_p2.index = pd.to_datetime(df_p2.index)\n",
    "df_p2.head()"
   ]
  },
  {
   "cell_type": "code",
   "execution_count": 46,
   "metadata": {
    "scrolled": true
   },
   "outputs": [
    {
     "data": {
      "text/html": [
       "<div>\n",
       "<style scoped>\n",
       "    .dataframe tbody tr th:only-of-type {\n",
       "        vertical-align: middle;\n",
       "    }\n",
       "\n",
       "    .dataframe tbody tr th {\n",
       "        vertical-align: top;\n",
       "    }\n",
       "\n",
       "    .dataframe thead th {\n",
       "        text-align: right;\n",
       "    }\n",
       "</style>\n",
       "<table border=\"1\" class=\"dataframe\">\n",
       "  <thead>\n",
       "    <tr style=\"text-align: right;\">\n",
       "      <th></th>\n",
       "      <th>Units</th>\n",
       "    </tr>\n",
       "    <tr>\n",
       "      <th>SalesDate</th>\n",
       "      <th></th>\n",
       "    </tr>\n",
       "  </thead>\n",
       "  <tbody>\n",
       "    <tr>\n",
       "      <th>2017-06-21</th>\n",
       "      <td>1</td>\n",
       "    </tr>\n",
       "    <tr>\n",
       "      <th>2017-06-21</th>\n",
       "      <td>1</td>\n",
       "    </tr>\n",
       "    <tr>\n",
       "      <th>2017-06-22</th>\n",
       "      <td>1</td>\n",
       "    </tr>\n",
       "    <tr>\n",
       "      <th>2017-06-22</th>\n",
       "      <td>1</td>\n",
       "    </tr>\n",
       "    <tr>\n",
       "      <th>2017-06-23</th>\n",
       "      <td>1</td>\n",
       "    </tr>\n",
       "  </tbody>\n",
       "</table>\n",
       "</div>"
      ],
      "text/plain": [
       "            Units\n",
       "SalesDate        \n",
       "2017-06-21      1\n",
       "2017-06-21      1\n",
       "2017-06-22      1\n",
       "2017-06-22      1\n",
       "2017-06-23      1"
      ]
     },
     "execution_count": 46,
     "metadata": {},
     "output_type": "execute_result"
    }
   ],
   "source": [
    "df_p3=df_tld[df_tld.Product_ID==top_products[2]].copy()\n",
    "df_p3.drop(columns=['Product_ID','Category_ID','Transaction_ID','Sales'],inplace=True)\n",
    "df_p3.index = pd.to_datetime(df_p3.index)\n",
    "df_p3.head()"
   ]
  },
  {
   "cell_type": "code",
   "execution_count": 47,
   "metadata": {
    "scrolled": true
   },
   "outputs": [
    {
     "data": {
      "text/html": [
       "<div>\n",
       "<style scoped>\n",
       "    .dataframe tbody tr th:only-of-type {\n",
       "        vertical-align: middle;\n",
       "    }\n",
       "\n",
       "    .dataframe tbody tr th {\n",
       "        vertical-align: top;\n",
       "    }\n",
       "\n",
       "    .dataframe thead th {\n",
       "        text-align: right;\n",
       "    }\n",
       "</style>\n",
       "<table border=\"1\" class=\"dataframe\">\n",
       "  <thead>\n",
       "    <tr style=\"text-align: right;\">\n",
       "      <th></th>\n",
       "      <th>Units</th>\n",
       "    </tr>\n",
       "    <tr>\n",
       "      <th>SalesDate</th>\n",
       "      <th></th>\n",
       "    </tr>\n",
       "  </thead>\n",
       "  <tbody>\n",
       "    <tr>\n",
       "      <th>2017-06-21</th>\n",
       "      <td>1</td>\n",
       "    </tr>\n",
       "    <tr>\n",
       "      <th>2017-06-22</th>\n",
       "      <td>1</td>\n",
       "    </tr>\n",
       "    <tr>\n",
       "      <th>2017-06-23</th>\n",
       "      <td>1</td>\n",
       "    </tr>\n",
       "    <tr>\n",
       "      <th>2017-06-24</th>\n",
       "      <td>1</td>\n",
       "    </tr>\n",
       "    <tr>\n",
       "      <th>2017-06-24</th>\n",
       "      <td>1</td>\n",
       "    </tr>\n",
       "  </tbody>\n",
       "</table>\n",
       "</div>"
      ],
      "text/plain": [
       "            Units\n",
       "SalesDate        \n",
       "2017-06-21      1\n",
       "2017-06-22      1\n",
       "2017-06-23      1\n",
       "2017-06-24      1\n",
       "2017-06-24      1"
      ]
     },
     "execution_count": 47,
     "metadata": {},
     "output_type": "execute_result"
    }
   ],
   "source": [
    "df_p4=df_tld[df_tld.Product_ID==top_products[3]].copy()\n",
    "df_p4.drop(columns=['Product_ID','Category_ID','Transaction_ID','Sales'],inplace=True)\n",
    "df_p4.index = pd.to_datetime(df_p4.index)\n",
    "df_p4.head()"
   ]
  },
  {
   "cell_type": "code",
   "execution_count": 48,
   "metadata": {
    "scrolled": true
   },
   "outputs": [
    {
     "data": {
      "text/html": [
       "<div>\n",
       "<style scoped>\n",
       "    .dataframe tbody tr th:only-of-type {\n",
       "        vertical-align: middle;\n",
       "    }\n",
       "\n",
       "    .dataframe tbody tr th {\n",
       "        vertical-align: top;\n",
       "    }\n",
       "\n",
       "    .dataframe thead th {\n",
       "        text-align: right;\n",
       "    }\n",
       "</style>\n",
       "<table border=\"1\" class=\"dataframe\">\n",
       "  <thead>\n",
       "    <tr style=\"text-align: right;\">\n",
       "      <th></th>\n",
       "      <th>Units</th>\n",
       "    </tr>\n",
       "    <tr>\n",
       "      <th>SalesDate</th>\n",
       "      <th></th>\n",
       "    </tr>\n",
       "  </thead>\n",
       "  <tbody>\n",
       "    <tr>\n",
       "      <th>2017-06-22</th>\n",
       "      <td>1</td>\n",
       "    </tr>\n",
       "    <tr>\n",
       "      <th>2017-06-22</th>\n",
       "      <td>1</td>\n",
       "    </tr>\n",
       "    <tr>\n",
       "      <th>2017-06-23</th>\n",
       "      <td>1</td>\n",
       "    </tr>\n",
       "    <tr>\n",
       "      <th>2017-06-23</th>\n",
       "      <td>1</td>\n",
       "    </tr>\n",
       "    <tr>\n",
       "      <th>2017-06-23</th>\n",
       "      <td>1</td>\n",
       "    </tr>\n",
       "  </tbody>\n",
       "</table>\n",
       "</div>"
      ],
      "text/plain": [
       "            Units\n",
       "SalesDate        \n",
       "2017-06-22      1\n",
       "2017-06-22      1\n",
       "2017-06-23      1\n",
       "2017-06-23      1\n",
       "2017-06-23      1"
      ]
     },
     "execution_count": 48,
     "metadata": {},
     "output_type": "execute_result"
    }
   ],
   "source": [
    "df_p5=df_tld[df_tld.Product_ID==top_products[4]].copy()\n",
    "df_p5.drop(columns=['Product_ID','Category_ID','Transaction_ID','Sales'],inplace=True)\n",
    "df_p5.index = pd.to_datetime(df_p5.index)\n",
    "df_p5.head()"
   ]
  },
  {
   "cell_type": "markdown",
   "metadata": {},
   "source": [
    "Right now, we have multiple entries for each date, lets sum them up to make our data simpler to fit and drive better looking plots."
   ]
  },
  {
   "cell_type": "markdown",
   "metadata": {},
   "source": [
    "ReferenceS for the coding technique used to convert data to daily format -\n",
    "- https://stackoverflow.com/questions/34597926/converting-daily-stock-data-to-weekly-based-via-pandas-in-python\n",
    "- https://stackoverflow.com/questions/68933144/attributeerror-module-pandas-tseries-offsets-has-no-attribute-timedelta"
   ]
  },
  {
   "cell_type": "code",
   "execution_count": 49,
   "metadata": {},
   "outputs": [],
   "source": [
    "logic = {'Units':'sum'}\n",
    "df_p1 = df_p1.resample('D').apply(logic)\n",
    "df_p2 = df_p2.resample('D').apply(logic)\n",
    "df_p3 = df_p3.resample('D').apply(logic)\n",
    "df_p4 = df_p4.resample('D').apply(logic)\n",
    "df_p5 = df_p5.resample('D').apply(logic)"
   ]
  },
  {
   "cell_type": "markdown",
   "metadata": {},
   "source": [
    "Sample of what the data looks like -"
   ]
  },
  {
   "cell_type": "code",
   "execution_count": 50,
   "metadata": {},
   "outputs": [
    {
     "data": {
      "text/html": [
       "<div>\n",
       "<style scoped>\n",
       "    .dataframe tbody tr th:only-of-type {\n",
       "        vertical-align: middle;\n",
       "    }\n",
       "\n",
       "    .dataframe tbody tr th {\n",
       "        vertical-align: top;\n",
       "    }\n",
       "\n",
       "    .dataframe thead th {\n",
       "        text-align: right;\n",
       "    }\n",
       "</style>\n",
       "<table border=\"1\" class=\"dataframe\">\n",
       "  <thead>\n",
       "    <tr style=\"text-align: right;\">\n",
       "      <th></th>\n",
       "      <th>Units</th>\n",
       "    </tr>\n",
       "    <tr>\n",
       "      <th>SalesDate</th>\n",
       "      <th></th>\n",
       "    </tr>\n",
       "  </thead>\n",
       "  <tbody>\n",
       "    <tr>\n",
       "      <th>2017-06-19</th>\n",
       "      <td>1</td>\n",
       "    </tr>\n",
       "    <tr>\n",
       "      <th>2017-06-20</th>\n",
       "      <td>0</td>\n",
       "    </tr>\n",
       "    <tr>\n",
       "      <th>2017-06-21</th>\n",
       "      <td>3</td>\n",
       "    </tr>\n",
       "    <tr>\n",
       "      <th>2017-06-22</th>\n",
       "      <td>5</td>\n",
       "    </tr>\n",
       "    <tr>\n",
       "      <th>2017-06-23</th>\n",
       "      <td>10</td>\n",
       "    </tr>\n",
       "  </tbody>\n",
       "</table>\n",
       "</div>"
      ],
      "text/plain": [
       "            Units\n",
       "SalesDate        \n",
       "2017-06-19      1\n",
       "2017-06-20      0\n",
       "2017-06-21      3\n",
       "2017-06-22      5\n",
       "2017-06-23     10"
      ]
     },
     "execution_count": 50,
     "metadata": {},
     "output_type": "execute_result"
    }
   ],
   "source": [
    "df_p1.head()"
   ]
  },
  {
   "cell_type": "markdown",
   "metadata": {},
   "source": [
    "## <u> Part 4</u> : Forecasting the future values using fbprophet"
   ]
  },
  {
   "cell_type": "markdown",
   "metadata": {},
   "source": [
    "After trying several methods including Autorgression, ARMA, ARIMA and SARIMA models and caluclating their RMSE, the results were unsatisfactory. After some more research I found the fbprophet.\n",
    "\n",
    "Prophet is a procedure for forecasting time series data based on an additive model where non-linear trends are fit with yearly, weekly, and daily seasonality, plus holiday effects. It works best with time series that have strong seasonal effects and several seasons of historical data. Prophet is robust to missing data and shifts in the trend, and typically handles outliers well.\n",
    "\n",
    "Prophet is open source software released by Facebook’s Core Data Science team. "
   ]
  },
  {
   "cell_type": "markdown",
   "metadata": {},
   "source": [
    "References used for fbprophet -"
   ]
  },
  {
   "cell_type": "markdown",
   "metadata": {},
   "source": [
    "1. Introductory video - https://facebook.github.io/prophet/\n",
    "2. API information - https://facebook.github.io/prophet/docs/quick_start.html\n",
    "3. Installation guide - https://medium.com/data-folks-indonesia/installing-fbprophet-prophet-for-time-series-forecasting-in-jupyter-notebook-7de6db09f93e\n",
    "4. Installation errors debugging - https://stackoverflow.com/questions/49889404/fbprophet-installation-error-failed-building-wheel-for-fbprophet\n",
    "5. Application example video - https://www.youtube.com/watch?v=AX1wKnBPhvU"
   ]
  },
  {
   "cell_type": "markdown",
   "metadata": {},
   "source": [
    "Used the following commands / steps to install fbprophet - "
   ]
  },
  {
   "cell_type": "markdown",
   "metadata": {},
   "source": [
    "1. Downgraded Python to 3.8 version from 3.9 as fbprophet does not work on 3.9 by creating a new environement \n",
    "2. Installed Jupyter Notebook in the new environment\n",
    "3. Installed c++ compiler\n",
    "4. Installed dependencies that will be required by Prophet / fbprophet using commands - \n",
    "    - conda install numpy cython -c conda-forge\n",
    "    - conda install matplotlib scipy pandas -c conda-forge\n",
    "    - conda install pystan -c conda-forge\n",
    "    - conda install -c anaconda ephem\n",
    "5. Installed the libraries for scikit-learn, auto-arima(pmdarima), fbprophet\n",
    "6. Installed prophet\n",
    "    - conda install -c conda-forge prophet\n",
    "7. Had to upgrad plotly as it was giving a warning \n",
    "    - pip install --upgrade plotly\n"
   ]
  },
  {
   "cell_type": "code",
   "execution_count": 51,
   "metadata": {},
   "outputs": [],
   "source": [
    "import warnings\n",
    "warnings.filterwarnings(\"ignore\")"
   ]
  },
  {
   "cell_type": "code",
   "execution_count": 52,
   "metadata": {},
   "outputs": [],
   "source": [
    "import time\n",
    "import matplotlib\n",
    "import seaborn as sns\n",
    "import statsmodels.api as sm\n",
    "import io, base64, os, json, re, glob\n",
    "import datetime\n",
    "from datetime import timedelta\n",
    "import pandas as pd\n",
    "import numpy as np\n",
    "\n",
    "from fbprophet import Prophet\n",
    "import statsmodels.api as sm"
   ]
  },
  {
   "cell_type": "markdown",
   "metadata": {},
   "source": [
    "#### Note : This above step will throw errors if you're not on version 3.8 as it does not support fbprophet "
   ]
  },
  {
   "cell_type": "markdown",
   "metadata": {},
   "source": [
    "### Forecasting - Product 1"
   ]
  },
  {
   "cell_type": "code",
   "execution_count": 53,
   "metadata": {},
   "outputs": [
    {
     "name": "stderr",
     "output_type": "stream",
     "text": [
      "INFO:fbprophet:Disabling yearly seasonality. Run prophet with yearly_seasonality=True to override this.\n"
     ]
    },
    {
     "name": "stdout",
     "output_type": "stream",
     "text": [
      "Initial log joint probability = -9.14242\n",
      "    Iter      log prob        ||dx||      ||grad||       alpha      alpha0  # evals  Notes \n",
      "      73       172.493     0.0075186       107.475   9.979e-05       0.001      128  LS failed, Hessian reset \n",
      "      99       172.837   3.19564e-05       68.7364           1           1      171   \n",
      "    Iter      log prob        ||dx||      ||grad||       alpha      alpha0  # evals  Notes \n",
      "     187       173.215     0.0013091       82.9691    1.27e-05       0.001      339  LS failed, Hessian reset \n",
      "     199       173.364   0.000526773       53.8895           1           1      354   \n",
      "    Iter      log prob        ||dx||      ||grad||       alpha      alpha0  # evals  Notes \n",
      "     274       173.393    4.8143e-08       78.0272   7.846e-10       0.001      502  LS failed, Hessian reset \n",
      "     280       173.393   1.05845e-08       68.2504      0.5315      0.5315      508   \n",
      "Optimization terminated normally: \n",
      "  Convergence detected: relative gradient magnitude is below tolerance\n"
     ]
    },
    {
     "data": {
      "text/plain": [
       "<fbprophet.forecaster.Prophet at 0x7fe20b41af10>"
      ]
     },
     "execution_count": 53,
     "metadata": {},
     "output_type": "execute_result"
    }
   ],
   "source": [
    "# preparing the data into FBP format:\n",
    "train_dataset = df_p1\n",
    "train_dataset.reset_index(level=0, inplace=True)\n",
    "train_dataset = train_dataset[['SalesDate', 'Units']]\n",
    "train_dataset.columns = [\"ds\", \"y\"]\n",
    "\n",
    "train_dataset = train_dataset.sample(len(df_p1))\n",
    "prophet_basic = Prophet(daily_seasonality=True,weekly_seasonality=True)\n",
    "prophet_basic.fit(train_dataset)"
   ]
  },
  {
   "cell_type": "code",
   "execution_count": 54,
   "metadata": {},
   "outputs": [
    {
     "data": {
      "text/html": [
       "<div>\n",
       "<style scoped>\n",
       "    .dataframe tbody tr th:only-of-type {\n",
       "        vertical-align: middle;\n",
       "    }\n",
       "\n",
       "    .dataframe tbody tr th {\n",
       "        vertical-align: top;\n",
       "    }\n",
       "\n",
       "    .dataframe thead th {\n",
       "        text-align: right;\n",
       "    }\n",
       "</style>\n",
       "<table border=\"1\" class=\"dataframe\">\n",
       "  <thead>\n",
       "    <tr style=\"text-align: right;\">\n",
       "      <th></th>\n",
       "      <th>ds</th>\n",
       "    </tr>\n",
       "  </thead>\n",
       "  <tbody>\n",
       "    <tr>\n",
       "      <th>0</th>\n",
       "      <td>2017-06-19</td>\n",
       "    </tr>\n",
       "    <tr>\n",
       "      <th>1</th>\n",
       "      <td>2017-06-20</td>\n",
       "    </tr>\n",
       "    <tr>\n",
       "      <th>2</th>\n",
       "      <td>2017-06-21</td>\n",
       "    </tr>\n",
       "    <tr>\n",
       "      <th>3</th>\n",
       "      <td>2017-06-22</td>\n",
       "    </tr>\n",
       "    <tr>\n",
       "      <th>4</th>\n",
       "      <td>2017-06-23</td>\n",
       "    </tr>\n",
       "  </tbody>\n",
       "</table>\n",
       "</div>"
      ],
      "text/plain": [
       "          ds\n",
       "0 2017-06-19\n",
       "1 2017-06-20\n",
       "2 2017-06-21\n",
       "3 2017-06-22\n",
       "4 2017-06-23"
      ]
     },
     "execution_count": 54,
     "metadata": {},
     "output_type": "execute_result"
    }
   ],
   "source": [
    "future= prophet_basic.make_future_dataframe(periods=56) #8 weeks is 56 days\n",
    "future.head()"
   ]
  },
  {
   "cell_type": "code",
   "execution_count": 55,
   "metadata": {},
   "outputs": [
    {
     "data": {
      "image/png": "[encoded data removed]",
      "text/plain": [
       "<Figure size 720x432 with 1 Axes>"
      ]
     },
     "metadata": {},
     "output_type": "display_data"
    }
   ],
   "source": [
    "forecast=prophet_basic.predict(future)\n",
    "\n",
    "#Plotting the predicted data\n",
    "fig1 =prophet_basic.plot(forecast)"
   ]
  },
  {
   "cell_type": "markdown",
   "metadata": {},
   "source": [
    "Let's record the RMSE for each product to see the accuarcy of the predictions"
   ]
  },
  {
   "cell_type": "code",
   "execution_count": 56,
   "metadata": {},
   "outputs": [
    {
     "data": {
      "text/plain": [
       "30.415279842290236"
      ]
     },
     "execution_count": 56,
     "metadata": {},
     "output_type": "execute_result"
    }
   ],
   "source": [
    "se = np.square(forecast.yhat.loc[:136] - df_p1.Units)\n",
    "mse = np.mean(se)\n",
    "rmse1 = np.sqrt(mse)\n",
    "rmse1"
   ]
  },
  {
   "cell_type": "markdown",
   "metadata": {},
   "source": [
    "Let's see the forecast for the 1st product."
   ]
  },
  {
   "cell_type": "markdown",
   "metadata": {},
   "source": [
    "Let's see the trends in the overall, daily and weekly data."
   ]
  },
  {
   "cell_type": "code",
   "execution_count": 57,
   "metadata": {},
   "outputs": [
    {
     "data": {
      "image/png": "[encoded data removed]",
      "text/plain": [
       "<Figure size 648x648 with 3 Axes>"
      ]
     },
     "metadata": {},
     "output_type": "display_data"
    }
   ],
   "source": [
    "fig1 = prophet_basic.plot_components(forecast)"
   ]
  },
  {
   "cell_type": "code",
   "execution_count": 58,
   "metadata": {},
   "outputs": [
    {
     "data": {
      "text/html": [
       "<div>\n",
       "<style scoped>\n",
       "    .dataframe tbody tr th:only-of-type {\n",
       "        vertical-align: middle;\n",
       "    }\n",
       "\n",
       "    .dataframe tbody tr th {\n",
       "        vertical-align: top;\n",
       "    }\n",
       "\n",
       "    .dataframe thead th {\n",
       "        text-align: right;\n",
       "    }\n",
       "</style>\n",
       "<table border=\"1\" class=\"dataframe\">\n",
       "  <thead>\n",
       "    <tr style=\"text-align: right;\">\n",
       "      <th></th>\n",
       "      <th>ds</th>\n",
       "      <th>trend</th>\n",
       "      <th>yhat_lower</th>\n",
       "      <th>yhat_upper</th>\n",
       "      <th>trend_lower</th>\n",
       "      <th>trend_upper</th>\n",
       "      <th>additive_terms</th>\n",
       "      <th>additive_terms_lower</th>\n",
       "      <th>additive_terms_upper</th>\n",
       "      <th>daily</th>\n",
       "      <th>daily_lower</th>\n",
       "      <th>daily_upper</th>\n",
       "      <th>weekly</th>\n",
       "      <th>weekly_lower</th>\n",
       "      <th>weekly_upper</th>\n",
       "      <th>multiplicative_terms</th>\n",
       "      <th>multiplicative_terms_lower</th>\n",
       "      <th>multiplicative_terms_upper</th>\n",
       "      <th>yhat</th>\n",
       "    </tr>\n",
       "  </thead>\n",
       "  <tbody>\n",
       "    <tr>\n",
       "      <th>0</th>\n",
       "      <td>2017-06-19</td>\n",
       "      <td>7.78</td>\n",
       "      <td>-3.74</td>\n",
       "      <td>72.54</td>\n",
       "      <td>7.78</td>\n",
       "      <td>7.78</td>\n",
       "      <td>27.36</td>\n",
       "      <td>27.36</td>\n",
       "      <td>27.36</td>\n",
       "      <td>27.21</td>\n",
       "      <td>27.21</td>\n",
       "      <td>27.21</td>\n",
       "      <td>0.15</td>\n",
       "      <td>0.15</td>\n",
       "      <td>0.15</td>\n",
       "      <td>0.00</td>\n",
       "      <td>0.00</td>\n",
       "      <td>0.00</td>\n",
       "      <td>35.14</td>\n",
       "    </tr>\n",
       "    <tr>\n",
       "      <th>1</th>\n",
       "      <td>2017-06-20</td>\n",
       "      <td>9.73</td>\n",
       "      <td>-7.23</td>\n",
       "      <td>65.72</td>\n",
       "      <td>9.73</td>\n",
       "      <td>9.73</td>\n",
       "      <td>19.41</td>\n",
       "      <td>19.41</td>\n",
       "      <td>19.41</td>\n",
       "      <td>27.21</td>\n",
       "      <td>27.21</td>\n",
       "      <td>27.21</td>\n",
       "      <td>-7.80</td>\n",
       "      <td>-7.80</td>\n",
       "      <td>-7.80</td>\n",
       "      <td>0.00</td>\n",
       "      <td>0.00</td>\n",
       "      <td>0.00</td>\n",
       "      <td>29.14</td>\n",
       "    </tr>\n",
       "    <tr>\n",
       "      <th>2</th>\n",
       "      <td>2017-06-21</td>\n",
       "      <td>11.68</td>\n",
       "      <td>1.65</td>\n",
       "      <td>75.57</td>\n",
       "      <td>11.68</td>\n",
       "      <td>11.68</td>\n",
       "      <td>26.67</td>\n",
       "      <td>26.67</td>\n",
       "      <td>26.67</td>\n",
       "      <td>27.21</td>\n",
       "      <td>27.21</td>\n",
       "      <td>27.21</td>\n",
       "      <td>-0.54</td>\n",
       "      <td>-0.54</td>\n",
       "      <td>-0.54</td>\n",
       "      <td>0.00</td>\n",
       "      <td>0.00</td>\n",
       "      <td>0.00</td>\n",
       "      <td>38.34</td>\n",
       "    </tr>\n",
       "    <tr>\n",
       "      <th>3</th>\n",
       "      <td>2017-06-22</td>\n",
       "      <td>13.62</td>\n",
       "      <td>-3.29</td>\n",
       "      <td>78.05</td>\n",
       "      <td>13.62</td>\n",
       "      <td>13.62</td>\n",
       "      <td>21.97</td>\n",
       "      <td>21.97</td>\n",
       "      <td>21.97</td>\n",
       "      <td>27.21</td>\n",
       "      <td>27.21</td>\n",
       "      <td>27.21</td>\n",
       "      <td>-5.24</td>\n",
       "      <td>-5.24</td>\n",
       "      <td>-5.24</td>\n",
       "      <td>0.00</td>\n",
       "      <td>0.00</td>\n",
       "      <td>0.00</td>\n",
       "      <td>35.60</td>\n",
       "    </tr>\n",
       "    <tr>\n",
       "      <th>4</th>\n",
       "      <td>2017-06-23</td>\n",
       "      <td>15.57</td>\n",
       "      <td>12.42</td>\n",
       "      <td>90.43</td>\n",
       "      <td>15.57</td>\n",
       "      <td>15.57</td>\n",
       "      <td>38.08</td>\n",
       "      <td>38.08</td>\n",
       "      <td>38.08</td>\n",
       "      <td>27.21</td>\n",
       "      <td>27.21</td>\n",
       "      <td>27.21</td>\n",
       "      <td>10.87</td>\n",
       "      <td>10.87</td>\n",
       "      <td>10.87</td>\n",
       "      <td>0.00</td>\n",
       "      <td>0.00</td>\n",
       "      <td>0.00</td>\n",
       "      <td>53.65</td>\n",
       "    </tr>\n",
       "  </tbody>\n",
       "</table>\n",
       "</div>"
      ],
      "text/plain": [
       "          ds  trend  yhat_lower  yhat_upper  trend_lower  trend_upper  \\\n",
       "0 2017-06-19   7.78       -3.74       72.54         7.78         7.78   \n",
       "1 2017-06-20   9.73       -7.23       65.72         9.73         9.73   \n",
       "2 2017-06-21  11.68        1.65       75.57        11.68        11.68   \n",
       "3 2017-06-22  13.62       -3.29       78.05        13.62        13.62   \n",
       "4 2017-06-23  15.57       12.42       90.43        15.57        15.57   \n",
       "\n",
       "   additive_terms  additive_terms_lower  additive_terms_upper  daily  \\\n",
       "0           27.36                 27.36                 27.36  27.21   \n",
       "1           19.41                 19.41                 19.41  27.21   \n",
       "2           26.67                 26.67                 26.67  27.21   \n",
       "3           21.97                 21.97                 21.97  27.21   \n",
       "4           38.08                 38.08                 38.08  27.21   \n",
       "\n",
       "   daily_lower  daily_upper  weekly  weekly_lower  weekly_upper  \\\n",
       "0        27.21        27.21    0.15          0.15          0.15   \n",
       "1        27.21        27.21   -7.80         -7.80         -7.80   \n",
       "2        27.21        27.21   -0.54         -0.54         -0.54   \n",
       "3        27.21        27.21   -5.24         -5.24         -5.24   \n",
       "4        27.21        27.21   10.87         10.87         10.87   \n",
       "\n",
       "   multiplicative_terms  multiplicative_terms_lower  \\\n",
       "0                  0.00                        0.00   \n",
       "1                  0.00                        0.00   \n",
       "2                  0.00                        0.00   \n",
       "3                  0.00                        0.00   \n",
       "4                  0.00                        0.00   \n",
       "\n",
       "   multiplicative_terms_upper  yhat  \n",
       "0                        0.00 35.14  \n",
       "1                        0.00 29.14  \n",
       "2                        0.00 38.34  \n",
       "3                        0.00 35.60  \n",
       "4                        0.00 53.65  "
      ]
     },
     "execution_count": 58,
     "metadata": {},
     "output_type": "execute_result"
    }
   ],
   "source": [
    "forecast.head()"
   ]
  },
  {
   "cell_type": "markdown",
   "metadata": {},
   "source": [
    "Now, we need the \"yhat\" value from 29th October 2017 to 16th December 2017 in a weekly format"
   ]
  },
  {
   "cell_type": "code",
   "execution_count": 59,
   "metadata": {},
   "outputs": [],
   "source": [
    "# Converting the index as date format \n",
    "forecast.ds=pd.to_datetime(forecast.ds)"
   ]
  },
  {
   "cell_type": "code",
   "execution_count": 60,
   "metadata": {
    "scrolled": true
   },
   "outputs": [
    {
     "data": {
      "text/plain": [
       "WEEKLY\n",
       "(2017-10-28 22:50:52.800000, 2017-11-04]   680.65\n",
       "(2017-11-04, 2017-11-10]                   534.94\n",
       "(2017-11-10, 2017-11-16]                   517.40\n",
       "(2017-11-16, 2017-11-22]                   507.04\n",
       "(2017-11-22, 2017-11-28]                   475.88\n",
       "(2017-11-28, 2017-12-04]                   456.67\n",
       "(2017-12-04, 2017-12-10]                   422.26\n",
       "(2017-12-10, 2017-12-16]                   413.16\n",
       "Name: yhat, dtype: float64"
      ]
     },
     "execution_count": 60,
     "metadata": {},
     "output_type": "execute_result"
    }
   ],
   "source": [
    "# Lets convert the forecasted data into a weekly format by spliting the 56 days in 8 weeks\n",
    "forecast_p1=forecast[(forecast.ds>='2017-10-29')&(forecast.ds<='2017-12-16')].copy()\n",
    "forecast_p1['WEEKLY']=pd.cut(forecast_p1.ds, 8)\n",
    "forecast_p1.groupby('WEEKLY')['yhat'].sum()\n",
    "forecast_p1 = forecast_p1.groupby('WEEKLY')['yhat'].sum()\n",
    "final_forecast=pd.DataFrame(forecast_p1)\n",
    "final_forecast.rename(columns={'yhat':'Product1'}, inplace=True)\n",
    "final_forecast.Product1=final_forecast.Product1.astype(int)"
   ]
  },
  {
   "cell_type": "code",
   "execution_count": 61,
   "metadata": {
    "scrolled": false
   },
   "outputs": [
    {
     "data": {
      "text/html": [
       "<div>\n",
       "<style scoped>\n",
       "    .dataframe tbody tr th:only-of-type {\n",
       "        vertical-align: middle;\n",
       "    }\n",
       "\n",
       "    .dataframe tbody tr th {\n",
       "        vertical-align: top;\n",
       "    }\n",
       "\n",
       "    .dataframe thead th {\n",
       "        text-align: right;\n",
       "    }\n",
       "</style>\n",
       "<table border=\"1\" class=\"dataframe\">\n",
       "  <thead>\n",
       "    <tr style=\"text-align: right;\">\n",
       "      <th></th>\n",
       "      <th>Product1</th>\n",
       "    </tr>\n",
       "    <tr>\n",
       "      <th>WEEKLY</th>\n",
       "      <th></th>\n",
       "    </tr>\n",
       "  </thead>\n",
       "  <tbody>\n",
       "    <tr>\n",
       "      <th>(2017-10-28 22:50:52.800000, 2017-11-04]</th>\n",
       "      <td>680</td>\n",
       "    </tr>\n",
       "    <tr>\n",
       "      <th>(2017-11-04, 2017-11-10]</th>\n",
       "      <td>534</td>\n",
       "    </tr>\n",
       "    <tr>\n",
       "      <th>(2017-11-10, 2017-11-16]</th>\n",
       "      <td>517</td>\n",
       "    </tr>\n",
       "    <tr>\n",
       "      <th>(2017-11-16, 2017-11-22]</th>\n",
       "      <td>507</td>\n",
       "    </tr>\n",
       "    <tr>\n",
       "      <th>(2017-11-22, 2017-11-28]</th>\n",
       "      <td>475</td>\n",
       "    </tr>\n",
       "    <tr>\n",
       "      <th>(2017-11-28, 2017-12-04]</th>\n",
       "      <td>456</td>\n",
       "    </tr>\n",
       "    <tr>\n",
       "      <th>(2017-12-04, 2017-12-10]</th>\n",
       "      <td>422</td>\n",
       "    </tr>\n",
       "    <tr>\n",
       "      <th>(2017-12-10, 2017-12-16]</th>\n",
       "      <td>413</td>\n",
       "    </tr>\n",
       "  </tbody>\n",
       "</table>\n",
       "</div>"
      ],
      "text/plain": [
       "                                          Product1\n",
       "WEEKLY                                            \n",
       "(2017-10-28 22:50:52.800000, 2017-11-04]       680\n",
       "(2017-11-04, 2017-11-10]                       534\n",
       "(2017-11-10, 2017-11-16]                       517\n",
       "(2017-11-16, 2017-11-22]                       507\n",
       "(2017-11-22, 2017-11-28]                       475\n",
       "(2017-11-28, 2017-12-04]                       456\n",
       "(2017-12-04, 2017-12-10]                       422\n",
       "(2017-12-10, 2017-12-16]                       413"
      ]
     },
     "execution_count": 61,
     "metadata": {},
     "output_type": "execute_result"
    }
   ],
   "source": [
    "final_forecast"
   ]
  },
  {
   "cell_type": "markdown",
   "metadata": {},
   "source": [
    "Let's use the same method for product 2, 3, 4 and 5. We will plot the fit in each case as well."
   ]
  },
  {
   "cell_type": "markdown",
   "metadata": {},
   "source": [
    "### Forecasting - Product 2"
   ]
  },
  {
   "cell_type": "code",
   "execution_count": 62,
   "metadata": {},
   "outputs": [
    {
     "name": "stderr",
     "output_type": "stream",
     "text": [
      "INFO:fbprophet:Disabling yearly seasonality. Run prophet with yearly_seasonality=True to override this.\n"
     ]
    },
    {
     "data": {
      "text/plain": [
       "<fbprophet.forecaster.Prophet at 0x7fe20b41aca0>"
      ]
     },
     "execution_count": 62,
     "metadata": {},
     "output_type": "execute_result"
    },
    {
     "name": "stdout",
     "output_type": "stream",
     "text": [
      "Initial log joint probability = -9.7249\n",
      "    Iter      log prob        ||dx||      ||grad||       alpha      alpha0  # evals  Notes \n",
      "      84       119.706   2.65465e-05       78.2899   4.102e-07       0.001      151  LS failed, Hessian reset \n",
      "      99       119.708   8.44988e-07       66.1733           1           1      171   \n",
      "    Iter      log prob        ||dx||      ||grad||       alpha      alpha0  # evals  Notes \n",
      "     113       119.708   3.43025e-09       61.3419      0.1507      0.1507      188   \n",
      "Optimization terminated normally: \n",
      "  Convergence detected: absolute parameter change was below tolerance\n"
     ]
    }
   ],
   "source": [
    "# preparing the data into FBP format:\n",
    "train_dataset = df_p2\n",
    "train_dataset.reset_index(level=0, inplace=True)\n",
    "train_dataset = train_dataset[['SalesDate', 'Units']]\n",
    "train_dataset.columns = [\"ds\", \"y\"]\n",
    "\n",
    "train_dataset = train_dataset.sample(len(df_p2))\n",
    "prophet_basic = Prophet(daily_seasonality=True,weekly_seasonality=True)\n",
    "prophet_basic.fit(train_dataset)"
   ]
  },
  {
   "cell_type": "code",
   "execution_count": 63,
   "metadata": {},
   "outputs": [
    {
     "data": {
      "image/png": "[encoded data removed]",
      "text/plain": [
       "<Figure size 720x432 with 1 Axes>"
      ]
     },
     "metadata": {},
     "output_type": "display_data"
    }
   ],
   "source": [
    "forecast=prophet_basic.predict(future)\n",
    "\n",
    "#Plotting the predicted data\n",
    "fig1 =prophet_basic.plot(forecast)"
   ]
  },
  {
   "cell_type": "code",
   "execution_count": 64,
   "metadata": {},
   "outputs": [
    {
     "data": {
      "text/plain": [
       "49.594032856210966"
      ]
     },
     "execution_count": 64,
     "metadata": {},
     "output_type": "execute_result"
    }
   ],
   "source": [
    "se = np.square(forecast.yhat.loc[:136] - df_p2.Units)\n",
    "mse = np.mean(se)\n",
    "rmse2 = np.sqrt(mse)\n",
    "rmse2"
   ]
  },
  {
   "cell_type": "code",
   "execution_count": 65,
   "metadata": {},
   "outputs": [
    {
     "data": {
      "text/plain": [
       "WEEKLY\n",
       "(2017-10-28 22:50:52.800000, 2017-11-04]   424.11\n",
       "(2017-11-04, 2017-11-10]                   329.21\n",
       "(2017-11-10, 2017-11-16]                   333.61\n",
       "(2017-11-16, 2017-11-22]                   323.34\n",
       "(2017-11-22, 2017-11-28]                   307.53\n",
       "(2017-11-28, 2017-12-04]                   291.96\n",
       "(2017-12-04, 2017-12-10]                   269.41\n",
       "(2017-12-10, 2017-12-16]                   262.89\n",
       "Name: yhat, dtype: float64"
      ]
     },
     "execution_count": 65,
     "metadata": {},
     "output_type": "execute_result"
    }
   ],
   "source": [
    "# Lets convert the forecasted data into a weekly format by spliting the 56 days in 8 weeks\n",
    "forecast_p2=forecast[(forecast.ds>='2017-10-29')&(forecast.ds<='2017-12-16')].copy()\n",
    "forecast_p2['WEEKLY']=pd.cut(forecast_p2.ds, 8)\n",
    "forecast_p2.groupby('WEEKLY')['yhat'].sum()\n",
    "forecast_p2 = forecast_p2.groupby('WEEKLY')['yhat'].sum()\n",
    "final_forecast['Product2']=forecast_p2\n",
    "final_forecast.Product2=final_forecast.Product2.astype(int)"
   ]
  },
  {
   "cell_type": "code",
   "execution_count": 66,
   "metadata": {},
   "outputs": [
    {
     "data": {
      "text/html": [
       "<div>\n",
       "<style scoped>\n",
       "    .dataframe tbody tr th:only-of-type {\n",
       "        vertical-align: middle;\n",
       "    }\n",
       "\n",
       "    .dataframe tbody tr th {\n",
       "        vertical-align: top;\n",
       "    }\n",
       "\n",
       "    .dataframe thead th {\n",
       "        text-align: right;\n",
       "    }\n",
       "</style>\n",
       "<table border=\"1\" class=\"dataframe\">\n",
       "  <thead>\n",
       "    <tr style=\"text-align: right;\">\n",
       "      <th></th>\n",
       "      <th>Product1</th>\n",
       "      <th>Product2</th>\n",
       "    </tr>\n",
       "    <tr>\n",
       "      <th>WEEKLY</th>\n",
       "      <th></th>\n",
       "      <th></th>\n",
       "    </tr>\n",
       "  </thead>\n",
       "  <tbody>\n",
       "    <tr>\n",
       "      <th>(2017-10-28 22:50:52.800000, 2017-11-04]</th>\n",
       "      <td>680</td>\n",
       "      <td>424</td>\n",
       "    </tr>\n",
       "    <tr>\n",
       "      <th>(2017-11-04, 2017-11-10]</th>\n",
       "      <td>534</td>\n",
       "      <td>329</td>\n",
       "    </tr>\n",
       "    <tr>\n",
       "      <th>(2017-11-10, 2017-11-16]</th>\n",
       "      <td>517</td>\n",
       "      <td>333</td>\n",
       "    </tr>\n",
       "    <tr>\n",
       "      <th>(2017-11-16, 2017-11-22]</th>\n",
       "      <td>507</td>\n",
       "      <td>323</td>\n",
       "    </tr>\n",
       "    <tr>\n",
       "      <th>(2017-11-22, 2017-11-28]</th>\n",
       "      <td>475</td>\n",
       "      <td>307</td>\n",
       "    </tr>\n",
       "    <tr>\n",
       "      <th>(2017-11-28, 2017-12-04]</th>\n",
       "      <td>456</td>\n",
       "      <td>291</td>\n",
       "    </tr>\n",
       "    <tr>\n",
       "      <th>(2017-12-04, 2017-12-10]</th>\n",
       "      <td>422</td>\n",
       "      <td>269</td>\n",
       "    </tr>\n",
       "    <tr>\n",
       "      <th>(2017-12-10, 2017-12-16]</th>\n",
       "      <td>413</td>\n",
       "      <td>262</td>\n",
       "    </tr>\n",
       "  </tbody>\n",
       "</table>\n",
       "</div>"
      ],
      "text/plain": [
       "                                          Product1  Product2\n",
       "WEEKLY                                                      \n",
       "(2017-10-28 22:50:52.800000, 2017-11-04]       680       424\n",
       "(2017-11-04, 2017-11-10]                       534       329\n",
       "(2017-11-10, 2017-11-16]                       517       333\n",
       "(2017-11-16, 2017-11-22]                       507       323\n",
       "(2017-11-22, 2017-11-28]                       475       307\n",
       "(2017-11-28, 2017-12-04]                       456       291\n",
       "(2017-12-04, 2017-12-10]                       422       269\n",
       "(2017-12-10, 2017-12-16]                       413       262"
      ]
     },
     "execution_count": 66,
     "metadata": {},
     "output_type": "execute_result"
    }
   ],
   "source": [
    "final_forecast"
   ]
  },
  {
   "cell_type": "markdown",
   "metadata": {},
   "source": [
    "### Forecasting - Product 3"
   ]
  },
  {
   "cell_type": "code",
   "execution_count": 67,
   "metadata": {},
   "outputs": [
    {
     "name": "stderr",
     "output_type": "stream",
     "text": [
      "INFO:fbprophet:Disabling yearly seasonality. Run prophet with yearly_seasonality=True to override this.\n"
     ]
    },
    {
     "name": "stdout",
     "output_type": "stream",
     "text": [
      "Initial log joint probability = -7.31161\n"
     ]
    },
    {
     "data": {
      "text/plain": [
       "<fbprophet.forecaster.Prophet at 0x7fe217677490>"
      ]
     },
     "execution_count": 67,
     "metadata": {},
     "output_type": "execute_result"
    },
    {
     "name": "stdout",
     "output_type": "stream",
     "text": [
      "    Iter      log prob        ||dx||      ||grad||       alpha      alpha0  # evals  Notes \n",
      "      99       181.531   5.00063e-05       79.1339      0.9525      0.9525      139   \n",
      "    Iter      log prob        ||dx||      ||grad||       alpha      alpha0  # evals  Notes \n",
      "     108        181.62    0.00144758       89.0574   1.405e-05       0.001      184  LS failed, Hessian reset \n",
      "     166       181.725   1.53236e-05       80.4156   1.832e-07       0.001      303  LS failed, Hessian reset \n",
      "     199       181.727   1.45997e-07       66.5448           1           1      343   \n",
      "    Iter      log prob        ||dx||      ||grad||       alpha      alpha0  # evals  Notes \n",
      "     205       181.727   1.53807e-06       76.6209   1.912e-08       0.001      385  LS failed, Hessian reset \n",
      "     237       181.727   1.60304e-07       69.2951   2.059e-09       0.001      464  LS failed, Hessian reset \n",
      "     243       181.727   1.27249e-08       61.7449      0.7158      0.7158      471   \n",
      "Optimization terminated normally: \n",
      "  Convergence detected: relative gradient magnitude is below tolerance\n"
     ]
    }
   ],
   "source": [
    "# preparing the data into FBP format:\n",
    "train_dataset = df_p3\n",
    "train_dataset.reset_index(level=0, inplace=True)\n",
    "train_dataset = train_dataset[['SalesDate', 'Units']]\n",
    "train_dataset.columns = [\"ds\", \"y\"]\n",
    "\n",
    "train_dataset = train_dataset.sample(len(df_p3))\n",
    "prophet_basic = Prophet(daily_seasonality=True,weekly_seasonality=True)\n",
    "prophet_basic.fit(train_dataset)"
   ]
  },
  {
   "cell_type": "code",
   "execution_count": 68,
   "metadata": {
    "scrolled": true
   },
   "outputs": [
    {
     "data": {
      "image/png": "[encoded data removed]",
      "text/plain": [
       "<Figure size 720x432 with 1 Axes>"
      ]
     },
     "metadata": {},
     "output_type": "display_data"
    }
   ],
   "source": [
    "forecast=prophet_basic.predict(future)\n",
    "\n",
    "#Plotting the predicted data\n",
    "fig1 =prophet_basic.plot(forecast)"
   ]
  },
  {
   "cell_type": "code",
   "execution_count": 69,
   "metadata": {},
   "outputs": [
    {
     "data": {
      "text/plain": [
       "42.79176634962543"
      ]
     },
     "execution_count": 69,
     "metadata": {},
     "output_type": "execute_result"
    }
   ],
   "source": [
    "se = np.square(forecast.yhat.loc[:136] - df_p3.Units)\n",
    "mse = np.mean(se)\n",
    "rmse3 = np.sqrt(mse)\n",
    "rmse3"
   ]
  },
  {
   "cell_type": "code",
   "execution_count": 70,
   "metadata": {},
   "outputs": [
    {
     "data": {
      "text/plain": [
       "WEEKLY\n",
       "(2017-10-28 22:50:52.800000, 2017-11-04]   452.20\n",
       "(2017-11-04, 2017-11-10]                   369.38\n",
       "(2017-11-10, 2017-11-16]                   373.83\n",
       "(2017-11-16, 2017-11-22]                   378.54\n",
       "(2017-11-22, 2017-11-28]                   377.03\n",
       "(2017-11-28, 2017-12-04]                   371.20\n",
       "(2017-12-04, 2017-12-10]                   360.91\n",
       "(2017-12-10, 2017-12-16]                   375.82\n",
       "Name: yhat, dtype: float64"
      ]
     },
     "execution_count": 70,
     "metadata": {},
     "output_type": "execute_result"
    }
   ],
   "source": [
    "# Lets convert the forecasted data into a weekly format by spliting the 56 days in 8 weeks\n",
    "forecast_p3=forecast[(forecast.ds>='2017-10-29')&(forecast.ds<='2017-12-16')].copy()\n",
    "forecast_p3['WEEKLY']=pd.cut(forecast_p3.ds, 8)\n",
    "forecast_p3.groupby('WEEKLY')['yhat'].sum()\n",
    "forecast_p3 = forecast_p3.groupby('WEEKLY')['yhat'].sum()\n",
    "final_forecast['Product3']=forecast_p3\n",
    "final_forecast.Product3=final_forecast.Product3.astype(int)"
   ]
  },
  {
   "cell_type": "code",
   "execution_count": 71,
   "metadata": {},
   "outputs": [
    {
     "data": {
      "text/html": [
       "<div>\n",
       "<style scoped>\n",
       "    .dataframe tbody tr th:only-of-type {\n",
       "        vertical-align: middle;\n",
       "    }\n",
       "\n",
       "    .dataframe tbody tr th {\n",
       "        vertical-align: top;\n",
       "    }\n",
       "\n",
       "    .dataframe thead th {\n",
       "        text-align: right;\n",
       "    }\n",
       "</style>\n",
       "<table border=\"1\" class=\"dataframe\">\n",
       "  <thead>\n",
       "    <tr style=\"text-align: right;\">\n",
       "      <th></th>\n",
       "      <th>Product1</th>\n",
       "      <th>Product2</th>\n",
       "      <th>Product3</th>\n",
       "    </tr>\n",
       "    <tr>\n",
       "      <th>WEEKLY</th>\n",
       "      <th></th>\n",
       "      <th></th>\n",
       "      <th></th>\n",
       "    </tr>\n",
       "  </thead>\n",
       "  <tbody>\n",
       "    <tr>\n",
       "      <th>(2017-10-28 22:50:52.800000, 2017-11-04]</th>\n",
       "      <td>680</td>\n",
       "      <td>424</td>\n",
       "      <td>452</td>\n",
       "    </tr>\n",
       "    <tr>\n",
       "      <th>(2017-11-04, 2017-11-10]</th>\n",
       "      <td>534</td>\n",
       "      <td>329</td>\n",
       "      <td>369</td>\n",
       "    </tr>\n",
       "    <tr>\n",
       "      <th>(2017-11-10, 2017-11-16]</th>\n",
       "      <td>517</td>\n",
       "      <td>333</td>\n",
       "      <td>373</td>\n",
       "    </tr>\n",
       "    <tr>\n",
       "      <th>(2017-11-16, 2017-11-22]</th>\n",
       "      <td>507</td>\n",
       "      <td>323</td>\n",
       "      <td>378</td>\n",
       "    </tr>\n",
       "    <tr>\n",
       "      <th>(2017-11-22, 2017-11-28]</th>\n",
       "      <td>475</td>\n",
       "      <td>307</td>\n",
       "      <td>377</td>\n",
       "    </tr>\n",
       "    <tr>\n",
       "      <th>(2017-11-28, 2017-12-04]</th>\n",
       "      <td>456</td>\n",
       "      <td>291</td>\n",
       "      <td>371</td>\n",
       "    </tr>\n",
       "    <tr>\n",
       "      <th>(2017-12-04, 2017-12-10]</th>\n",
       "      <td>422</td>\n",
       "      <td>269</td>\n",
       "      <td>360</td>\n",
       "    </tr>\n",
       "    <tr>\n",
       "      <th>(2017-12-10, 2017-12-16]</th>\n",
       "      <td>413</td>\n",
       "      <td>262</td>\n",
       "      <td>375</td>\n",
       "    </tr>\n",
       "  </tbody>\n",
       "</table>\n",
       "</div>"
      ],
      "text/plain": [
       "                                          Product1  Product2  Product3\n",
       "WEEKLY                                                                \n",
       "(2017-10-28 22:50:52.800000, 2017-11-04]       680       424       452\n",
       "(2017-11-04, 2017-11-10]                       534       329       369\n",
       "(2017-11-10, 2017-11-16]                       517       333       373\n",
       "(2017-11-16, 2017-11-22]                       507       323       378\n",
       "(2017-11-22, 2017-11-28]                       475       307       377\n",
       "(2017-11-28, 2017-12-04]                       456       291       371\n",
       "(2017-12-04, 2017-12-10]                       422       269       360\n",
       "(2017-12-10, 2017-12-16]                       413       262       375"
      ]
     },
     "execution_count": 71,
     "metadata": {},
     "output_type": "execute_result"
    }
   ],
   "source": [
    "final_forecast"
   ]
  },
  {
   "cell_type": "markdown",
   "metadata": {},
   "source": [
    "### Forecasting - Product 4"
   ]
  },
  {
   "cell_type": "code",
   "execution_count": 72,
   "metadata": {},
   "outputs": [
    {
     "name": "stderr",
     "output_type": "stream",
     "text": [
      "INFO:fbprophet:Disabling yearly seasonality. Run prophet with yearly_seasonality=True to override this.\n"
     ]
    },
    {
     "name": "stdout",
     "output_type": "stream",
     "text": [
      "Initial log joint probability = -13.9174\n"
     ]
    },
    {
     "data": {
      "text/plain": [
       "<fbprophet.forecaster.Prophet at 0x7fe21768c490>"
      ]
     },
     "execution_count": 72,
     "metadata": {},
     "output_type": "execute_result"
    },
    {
     "name": "stdout",
     "output_type": "stream",
     "text": [
      "    Iter      log prob        ||dx||      ||grad||       alpha      alpha0  # evals  Notes \n",
      "      99       152.858   0.000156305       68.6738      0.3919      0.3919      123   \n",
      "    Iter      log prob        ||dx||      ||grad||       alpha      alpha0  # evals  Notes \n",
      "     152        152.98    0.00141703       72.6252   1.854e-05       0.001      224  LS failed, Hessian reset \n",
      "     199       153.033   0.000172348        75.916       0.122           1      294   \n",
      "    Iter      log prob        ||dx||      ||grad||       alpha      alpha0  # evals  Notes \n",
      "     220       153.118   0.000302301       83.5262   3.988e-06       0.001      365  LS failed, Hessian reset \n",
      "     282       153.151   6.57618e-06       54.5936   8.073e-08       0.001      501  LS failed, Hessian reset \n",
      "     299       153.151   5.22565e-07       54.5996      0.9153      0.9153      523   \n",
      "    Iter      log prob        ||dx||      ||grad||       alpha      alpha0  # evals  Notes \n",
      "     366       153.156   8.74894e-09       74.2908      0.1579      0.1579      613   \n",
      "Optimization terminated normally: \n",
      "  Convergence detected: absolute parameter change was below tolerance\n"
     ]
    }
   ],
   "source": [
    "# preparing the data into FBP format:\n",
    "train_dataset = df_p4\n",
    "train_dataset.reset_index(level=0, inplace=True)\n",
    "train_dataset = train_dataset[['SalesDate', 'Units']]\n",
    "train_dataset.columns = [\"ds\", \"y\"]\n",
    "\n",
    "train_dataset = train_dataset.sample(len(df_p4))\n",
    "prophet_basic = Prophet(daily_seasonality=True,weekly_seasonality=True)\n",
    "prophet_basic.fit(train_dataset)"
   ]
  },
  {
   "cell_type": "code",
   "execution_count": 73,
   "metadata": {},
   "outputs": [
    {
     "data": {
      "image/png": "[encoded data removed]",
      "text/plain": [
       "<Figure size 720x432 with 1 Axes>"
      ]
     },
     "metadata": {},
     "output_type": "display_data"
    }
   ],
   "source": [
    "forecast=prophet_basic.predict(future)\n",
    "\n",
    "#Plotting the predicted data\n",
    "fig1 =prophet_basic.plot(forecast)"
   ]
  },
  {
   "cell_type": "code",
   "execution_count": 74,
   "metadata": {},
   "outputs": [
    {
     "data": {
      "text/plain": [
       "28.460746280476908"
      ]
     },
     "execution_count": 74,
     "metadata": {},
     "output_type": "execute_result"
    }
   ],
   "source": [
    "se = np.square(forecast.yhat.loc[:136] - df_p4.Units)\n",
    "mse = np.mean(se)\n",
    "rmse4 = np.sqrt(mse)\n",
    "rmse4"
   ]
  },
  {
   "cell_type": "code",
   "execution_count": 75,
   "metadata": {},
   "outputs": [
    {
     "data": {
      "text/plain": [
       "WEEKLY\n",
       "(2017-10-28 22:50:52.800000, 2017-11-04]   367.53\n",
       "(2017-11-04, 2017-11-10]                   279.38\n",
       "(2017-11-10, 2017-11-16]                   263.48\n",
       "(2017-11-16, 2017-11-22]                   249.35\n",
       "(2017-11-22, 2017-11-28]                   232.76\n",
       "(2017-11-28, 2017-12-04]                   211.24\n",
       "(2017-12-04, 2017-12-10]                   180.25\n",
       "(2017-12-10, 2017-12-16]                   172.25\n",
       "Name: yhat, dtype: float64"
      ]
     },
     "execution_count": 75,
     "metadata": {},
     "output_type": "execute_result"
    }
   ],
   "source": [
    "# Lets convert the forecasted data into a weekly format by spliting the 56 days in 8 weeks\n",
    "forecast_p4=forecast[(forecast.ds>='2017-10-29')&(forecast.ds<='2017-12-16')].copy()\n",
    "forecast_p4['WEEKLY']=pd.cut(forecast_p4.ds, 8)\n",
    "forecast_p4.groupby('WEEKLY')['yhat'].sum()\n",
    "forecast_p4 = forecast_p4.groupby('WEEKLY')['yhat'].sum()\n",
    "final_forecast['Product4']=forecast_p4\n",
    "final_forecast.Product4=final_forecast.Product4.astype(int)"
   ]
  },
  {
   "cell_type": "code",
   "execution_count": 76,
   "metadata": {},
   "outputs": [
    {
     "data": {
      "text/html": [
       "<div>\n",
       "<style scoped>\n",
       "    .dataframe tbody tr th:only-of-type {\n",
       "        vertical-align: middle;\n",
       "    }\n",
       "\n",
       "    .dataframe tbody tr th {\n",
       "        vertical-align: top;\n",
       "    }\n",
       "\n",
       "    .dataframe thead th {\n",
       "        text-align: right;\n",
       "    }\n",
       "</style>\n",
       "<table border=\"1\" class=\"dataframe\">\n",
       "  <thead>\n",
       "    <tr style=\"text-align: right;\">\n",
       "      <th></th>\n",
       "      <th>Product1</th>\n",
       "      <th>Product2</th>\n",
       "      <th>Product3</th>\n",
       "      <th>Product4</th>\n",
       "    </tr>\n",
       "    <tr>\n",
       "      <th>WEEKLY</th>\n",
       "      <th></th>\n",
       "      <th></th>\n",
       "      <th></th>\n",
       "      <th></th>\n",
       "    </tr>\n",
       "  </thead>\n",
       "  <tbody>\n",
       "    <tr>\n",
       "      <th>(2017-10-28 22:50:52.800000, 2017-11-04]</th>\n",
       "      <td>680</td>\n",
       "      <td>424</td>\n",
       "      <td>452</td>\n",
       "      <td>367</td>\n",
       "    </tr>\n",
       "    <tr>\n",
       "      <th>(2017-11-04, 2017-11-10]</th>\n",
       "      <td>534</td>\n",
       "      <td>329</td>\n",
       "      <td>369</td>\n",
       "      <td>279</td>\n",
       "    </tr>\n",
       "    <tr>\n",
       "      <th>(2017-11-10, 2017-11-16]</th>\n",
       "      <td>517</td>\n",
       "      <td>333</td>\n",
       "      <td>373</td>\n",
       "      <td>263</td>\n",
       "    </tr>\n",
       "    <tr>\n",
       "      <th>(2017-11-16, 2017-11-22]</th>\n",
       "      <td>507</td>\n",
       "      <td>323</td>\n",
       "      <td>378</td>\n",
       "      <td>249</td>\n",
       "    </tr>\n",
       "    <tr>\n",
       "      <th>(2017-11-22, 2017-11-28]</th>\n",
       "      <td>475</td>\n",
       "      <td>307</td>\n",
       "      <td>377</td>\n",
       "      <td>232</td>\n",
       "    </tr>\n",
       "    <tr>\n",
       "      <th>(2017-11-28, 2017-12-04]</th>\n",
       "      <td>456</td>\n",
       "      <td>291</td>\n",
       "      <td>371</td>\n",
       "      <td>211</td>\n",
       "    </tr>\n",
       "    <tr>\n",
       "      <th>(2017-12-04, 2017-12-10]</th>\n",
       "      <td>422</td>\n",
       "      <td>269</td>\n",
       "      <td>360</td>\n",
       "      <td>180</td>\n",
       "    </tr>\n",
       "    <tr>\n",
       "      <th>(2017-12-10, 2017-12-16]</th>\n",
       "      <td>413</td>\n",
       "      <td>262</td>\n",
       "      <td>375</td>\n",
       "      <td>172</td>\n",
       "    </tr>\n",
       "  </tbody>\n",
       "</table>\n",
       "</div>"
      ],
      "text/plain": [
       "                                          Product1  Product2  Product3  \\\n",
       "WEEKLY                                                                   \n",
       "(2017-10-28 22:50:52.800000, 2017-11-04]       680       424       452   \n",
       "(2017-11-04, 2017-11-10]                       534       329       369   \n",
       "(2017-11-10, 2017-11-16]                       517       333       373   \n",
       "(2017-11-16, 2017-11-22]                       507       323       378   \n",
       "(2017-11-22, 2017-11-28]                       475       307       377   \n",
       "(2017-11-28, 2017-12-04]                       456       291       371   \n",
       "(2017-12-04, 2017-12-10]                       422       269       360   \n",
       "(2017-12-10, 2017-12-16]                       413       262       375   \n",
       "\n",
       "                                          Product4  \n",
       "WEEKLY                                              \n",
       "(2017-10-28 22:50:52.800000, 2017-11-04]       367  \n",
       "(2017-11-04, 2017-11-10]                       279  \n",
       "(2017-11-10, 2017-11-16]                       263  \n",
       "(2017-11-16, 2017-11-22]                       249  \n",
       "(2017-11-22, 2017-11-28]                       232  \n",
       "(2017-11-28, 2017-12-04]                       211  \n",
       "(2017-12-04, 2017-12-10]                       180  \n",
       "(2017-12-10, 2017-12-16]                       172  "
      ]
     },
     "execution_count": 76,
     "metadata": {},
     "output_type": "execute_result"
    }
   ],
   "source": [
    "final_forecast"
   ]
  },
  {
   "cell_type": "markdown",
   "metadata": {},
   "source": [
    "### Forecasting - Product 5"
   ]
  },
  {
   "cell_type": "code",
   "execution_count": 77,
   "metadata": {},
   "outputs": [
    {
     "name": "stderr",
     "output_type": "stream",
     "text": [
      "INFO:fbprophet:Disabling yearly seasonality. Run prophet with yearly_seasonality=True to override this.\n"
     ]
    },
    {
     "data": {
      "text/plain": [
       "<fbprophet.forecaster.Prophet at 0x7fe2172c3700>"
      ]
     },
     "execution_count": 77,
     "metadata": {},
     "output_type": "execute_result"
    },
    {
     "name": "stdout",
     "output_type": "stream",
     "text": [
      "Initial log joint probability = -10.3142\n",
      "    Iter      log prob        ||dx||      ||grad||       alpha      alpha0  # evals  Notes \n",
      "      99       145.013   2.28934e-05       73.6612      0.2478      0.2478      138   \n",
      "    Iter      log prob        ||dx||      ||grad||       alpha      alpha0  # evals  Notes \n",
      "     107       145.053    0.00012385       61.6655   1.579e-06       0.001      185  LS failed, Hessian reset \n",
      "     193       145.062   9.85092e-09       64.7791      0.1371      0.1371      320   \n",
      "Optimization terminated normally: \n",
      "  Convergence detected: absolute parameter change was below tolerance\n"
     ]
    }
   ],
   "source": [
    "# preparing the data into FBP format:\n",
    "train_dataset = df_p5\n",
    "train_dataset.reset_index(level=0, inplace=True)\n",
    "train_dataset = train_dataset[['SalesDate', 'Units']]\n",
    "train_dataset.columns = [\"ds\", \"y\"]\n",
    "\n",
    "train_dataset = train_dataset.sample(len(df_p5))\n",
    "prophet_basic = Prophet(daily_seasonality=True,weekly_seasonality=True)\n",
    "prophet_basic.fit(train_dataset)"
   ]
  },
  {
   "cell_type": "code",
   "execution_count": 78,
   "metadata": {},
   "outputs": [
    {
     "data": {
      "image/png": "[encoded data removed]",
      "text/plain": [
       "<Figure size 720x432 with 1 Axes>"
      ]
     },
     "metadata": {},
     "output_type": "display_data"
    }
   ],
   "source": [
    "forecast=prophet_basic.predict(future)\n",
    "\n",
    "#Plotting the predicted data\n",
    "fig1 =prophet_basic.plot(forecast)"
   ]
  },
  {
   "cell_type": "code",
   "execution_count": 79,
   "metadata": {},
   "outputs": [
    {
     "data": {
      "text/plain": [
       "25.52721138582253"
      ]
     },
     "execution_count": 79,
     "metadata": {},
     "output_type": "execute_result"
    }
   ],
   "source": [
    "se = np.square(forecast.yhat.loc[:136] - df_p5.Units)\n",
    "mse = np.mean(se)\n",
    "rmse5 = np.sqrt(mse)\n",
    "rmse5"
   ]
  },
  {
   "cell_type": "code",
   "execution_count": 80,
   "metadata": {},
   "outputs": [
    {
     "data": {
      "text/plain": [
       "WEEKLY\n",
       "(2017-10-28 22:50:52.800000, 2017-11-04]   256.71\n",
       "(2017-11-04, 2017-11-10]                   179.78\n",
       "(2017-11-10, 2017-11-16]                   166.32\n",
       "(2017-11-16, 2017-11-22]                   148.41\n",
       "(2017-11-22, 2017-11-28]                   123.29\n",
       "(2017-11-28, 2017-12-04]                    99.97\n",
       "(2017-12-04, 2017-12-10]                    69.27\n",
       "(2017-12-10, 2017-12-16]                    52.56\n",
       "Name: yhat, dtype: float64"
      ]
     },
     "execution_count": 80,
     "metadata": {},
     "output_type": "execute_result"
    }
   ],
   "source": [
    "# Lets convert the forecasted data into a weekly format by spliting the 56 days in 8 weeks\n",
    "forecast_p5=forecast[(forecast.ds>='2017-10-29')&(forecast.ds<='2017-12-16')].copy()\n",
    "forecast_p5['WEEKLY']=pd.cut(forecast_p5.ds, 8)\n",
    "forecast_p5.groupby('WEEKLY')['yhat'].sum()\n",
    "forecast_p5 = forecast_p5.groupby('WEEKLY')['yhat'].sum()\n",
    "final_forecast['Product5']=forecast_p5\n",
    "final_forecast.Product5=final_forecast.Product5.astype(int)"
   ]
  },
  {
   "cell_type": "code",
   "execution_count": 81,
   "metadata": {
    "scrolled": true
   },
   "outputs": [],
   "source": [
    "final_forecast['Week']=['Week 1 : From 10/29/2017',\\\n",
    "                        'Week 2 : From 11/05/2017',\\\n",
    "                        'Week 3 : From 11/12/2017',\\\n",
    "                        'Week 4 : From 11/19/2017',\\\n",
    "                        'Week 5 : From 11/26/2017',\\\n",
    "                        'Week 6 : From 12/03/2017',\\\n",
    "                        'Week 7 : From 12/10/2017',\\\n",
    "                        'Week 8 : From 12/17/2017']"
   ]
  },
  {
   "cell_type": "code",
   "execution_count": 82,
   "metadata": {},
   "outputs": [],
   "source": [
    "final_forecast.reset_index(inplace=True)"
   ]
  },
  {
   "cell_type": "code",
   "execution_count": 83,
   "metadata": {},
   "outputs": [],
   "source": [
    "final_forecast.drop(columns='WEEKLY',inplace=True)"
   ]
  },
  {
   "cell_type": "code",
   "execution_count": 84,
   "metadata": {},
   "outputs": [],
   "source": [
    "final_forecast=final_forecast.set_index('Week')"
   ]
  },
  {
   "cell_type": "code",
   "execution_count": 85,
   "metadata": {},
   "outputs": [
    {
     "data": {
      "text/html": [
       "<div>\n",
       "<style scoped>\n",
       "    .dataframe tbody tr th:only-of-type {\n",
       "        vertical-align: middle;\n",
       "    }\n",
       "\n",
       "    .dataframe tbody tr th {\n",
       "        vertical-align: top;\n",
       "    }\n",
       "\n",
       "    .dataframe thead th {\n",
       "        text-align: right;\n",
       "    }\n",
       "</style>\n",
       "<table border=\"1\" class=\"dataframe\">\n",
       "  <thead>\n",
       "    <tr style=\"text-align: right;\">\n",
       "      <th></th>\n",
       "      <th>Product1</th>\n",
       "      <th>Product2</th>\n",
       "      <th>Product3</th>\n",
       "      <th>Product4</th>\n",
       "      <th>Product5</th>\n",
       "    </tr>\n",
       "    <tr>\n",
       "      <th>Week</th>\n",
       "      <th></th>\n",
       "      <th></th>\n",
       "      <th></th>\n",
       "      <th></th>\n",
       "      <th></th>\n",
       "    </tr>\n",
       "  </thead>\n",
       "  <tbody>\n",
       "    <tr>\n",
       "      <th>Week 1 : From 10/29/2017</th>\n",
       "      <td>680</td>\n",
       "      <td>424</td>\n",
       "      <td>452</td>\n",
       "      <td>367</td>\n",
       "      <td>256</td>\n",
       "    </tr>\n",
       "    <tr>\n",
       "      <th>Week 2 : From 11/05/2017</th>\n",
       "      <td>534</td>\n",
       "      <td>329</td>\n",
       "      <td>369</td>\n",
       "      <td>279</td>\n",
       "      <td>179</td>\n",
       "    </tr>\n",
       "    <tr>\n",
       "      <th>Week 3 : From 11/12/2017</th>\n",
       "      <td>517</td>\n",
       "      <td>333</td>\n",
       "      <td>373</td>\n",
       "      <td>263</td>\n",
       "      <td>166</td>\n",
       "    </tr>\n",
       "    <tr>\n",
       "      <th>Week 4 : From 11/19/2017</th>\n",
       "      <td>507</td>\n",
       "      <td>323</td>\n",
       "      <td>378</td>\n",
       "      <td>249</td>\n",
       "      <td>148</td>\n",
       "    </tr>\n",
       "    <tr>\n",
       "      <th>Week 5 : From 11/26/2017</th>\n",
       "      <td>475</td>\n",
       "      <td>307</td>\n",
       "      <td>377</td>\n",
       "      <td>232</td>\n",
       "      <td>123</td>\n",
       "    </tr>\n",
       "    <tr>\n",
       "      <th>Week 6 : From 12/03/2017</th>\n",
       "      <td>456</td>\n",
       "      <td>291</td>\n",
       "      <td>371</td>\n",
       "      <td>211</td>\n",
       "      <td>99</td>\n",
       "    </tr>\n",
       "    <tr>\n",
       "      <th>Week 7 : From 12/10/2017</th>\n",
       "      <td>422</td>\n",
       "      <td>269</td>\n",
       "      <td>360</td>\n",
       "      <td>180</td>\n",
       "      <td>69</td>\n",
       "    </tr>\n",
       "    <tr>\n",
       "      <th>Week 8 : From 12/17/2017</th>\n",
       "      <td>413</td>\n",
       "      <td>262</td>\n",
       "      <td>375</td>\n",
       "      <td>172</td>\n",
       "      <td>52</td>\n",
       "    </tr>\n",
       "  </tbody>\n",
       "</table>\n",
       "</div>"
      ],
      "text/plain": [
       "                          Product1  Product2  Product3  Product4  Product5\n",
       "Week                                                                      \n",
       "Week 1 : From 10/29/2017       680       424       452       367       256\n",
       "Week 2 : From 11/05/2017       534       329       369       279       179\n",
       "Week 3 : From 11/12/2017       517       333       373       263       166\n",
       "Week 4 : From 11/19/2017       507       323       378       249       148\n",
       "Week 5 : From 11/26/2017       475       307       377       232       123\n",
       "Week 6 : From 12/03/2017       456       291       371       211        99\n",
       "Week 7 : From 12/10/2017       422       269       360       180        69\n",
       "Week 8 : From 12/17/2017       413       262       375       172        52"
      ]
     },
     "execution_count": 85,
     "metadata": {},
     "output_type": "execute_result"
    }
   ],
   "source": [
    "final_forecast"
   ]
  },
  {
   "cell_type": "markdown",
   "metadata": {},
   "source": [
    "Used this command to export to csv -\n",
    "- final_forecast.to_csv('Top_5_Products_Forecast.csv')"
   ]
  }
 ],
 "metadata": {
  "kernelspec": {
   "display_name": "Python 3 (ipykernel)",
   "language": "python",
   "name": "python3"
  },
  "language_info": {
   "codemirror_mode": {
    "name": "ipython",
    "version": 3
   },
   "file_extension": ".py",
   "mimetype": "text/x-python",
   "name": "python",
   "nbconvert_exporter": "python",
   "pygments_lexer": "ipython3",
   "version": "3.8.13"
  }
 },
 "nbformat": 4,
 "nbformat_minor": 1
}
